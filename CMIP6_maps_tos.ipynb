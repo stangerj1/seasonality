{
 "cells": [
  {
   "cell_type": "markdown",
   "metadata": {},
   "source": [
    "# Plot Map"
   ]
  },
  {
   "cell_type": "markdown",
   "metadata": {},
   "source": [
    "## Cluster Setting\n",
    "Dask is a flexible library for parallel computing in Python. \n",
    "\n",
    "Dask.distributed is a lightweight library for distributed computing in Python.\n",
    "\n",
    "The Client is the primary entry point for users of dask.distributed."
   ]
  },
  {
   "cell_type": "code",
   "execution_count": 19,
   "metadata": {},
   "outputs": [],
   "source": [
    "# # this block starts clusters we will need for fast parallel? calculations\n",
    "# from dask_gateway import Gateway\n",
    "# from dask.distributed import Client\n",
    "# gateway = Gateway()\n",
    "# cluster = gateway.new_cluster()\n",
    "# cluster.adapt(minimum=2, maximum=20)\n",
    "# client = Client(cluster)\n",
    "# cluster"
   ]
  },
  {
   "cell_type": "code",
   "execution_count": 20,
   "metadata": {},
   "outputs": [],
   "source": [
    "# all sorts of packsges. there are some exceptions to deal with later\n",
    "import matplotlib as mpl\n",
    "import matplotlib.pyplot as plt\n",
    "import numpy as np\n",
    "import pandas as pd\n",
    "import xarray as xr\n",
    "import gcsfs # Pythonic file-system for Google Cloud Storage\n",
    "import xesmf as xe\n",
    "import cartopy.crs as ccrs\n",
    "import cartopy.feature as cfeature\n",
    "import netCDF4\n",
    "import os\n",
    "import shelve\n",
    "from scipy.interpolate import griddata\n",
    "\n",
    "# %matplotlib inline"
   ]
  },
  {
   "cell_type": "code",
   "execution_count": 21,
   "metadata": {},
   "outputs": [],
   "source": [
    "# this function pulls the data from the server. it is an algorithm not the calculation \n",
    "# also exceptions\n",
    "def get_data(df, var, model, expe, freq):\n",
    "    try:\n",
    "        uri = df[(df.variable_id == var) & \\\n",
    "                 (df.source_id == model) & \\\n",
    "                 (df.experiment_id == expe) & \\\n",
    "                 (df.table_id == freq)].zstore.values[0]\n",
    "        gcs = gcsfs.GCSFileSystem(token='anon')\n",
    "        ds = xr.open_zarr(gcs.get_mapper(uri), consolidated=True)\n",
    "    except:\n",
    "        ds = []\n",
    "        print(model, \": no data\")\n",
    "    return ds    \n",
    "   "
   ]
  },
  {
   "cell_type": "markdown",
   "metadata": {},
   "source": [
    "Fetch the data from 15 models that have biogeochem output.\n",
    "\n"
   ]
  },
  {
   "cell_type": "code",
   "execution_count": 22,
   "metadata": {},
   "outputs": [
    {
     "data": {
      "text/html": [
       "<div><svg style=\"position: absolute; width: 0; height: 0; overflow: hidden\">\n",
       "<defs>\n",
       "<symbol id=\"icon-database\" viewBox=\"0 0 32 32\">\n",
       "<path d=\"M16 0c-8.837 0-16 2.239-16 5v4c0 2.761 7.163 5 16 5s16-2.239 16-5v-4c0-2.761-7.163-5-16-5z\"></path>\n",
       "<path d=\"M16 17c-8.837 0-16-2.239-16-5v6c0 2.761 7.163 5 16 5s16-2.239 16-5v-6c0 2.761-7.163 5-16 5z\"></path>\n",
       "<path d=\"M16 26c-8.837 0-16-2.239-16-5v6c0 2.761 7.163 5 16 5s16-2.239 16-5v-6c0 2.761-7.163 5-16 5z\"></path>\n",
       "</symbol>\n",
       "<symbol id=\"icon-file-text2\" viewBox=\"0 0 32 32\">\n",
       "<path d=\"M28.681 7.159c-0.694-0.947-1.662-2.053-2.724-3.116s-2.169-2.030-3.116-2.724c-1.612-1.182-2.393-1.319-2.841-1.319h-15.5c-1.378 0-2.5 1.121-2.5 2.5v27c0 1.378 1.122 2.5 2.5 2.5h23c1.378 0 2.5-1.122 2.5-2.5v-19.5c0-0.448-0.137-1.23-1.319-2.841zM24.543 5.457c0.959 0.959 1.712 1.825 2.268 2.543h-4.811v-4.811c0.718 0.556 1.584 1.309 2.543 2.268zM28 29.5c0 0.271-0.229 0.5-0.5 0.5h-23c-0.271 0-0.5-0.229-0.5-0.5v-27c0-0.271 0.229-0.5 0.5-0.5 0 0 15.499-0 15.5 0v7c0 0.552 0.448 1 1 1h7v19.5z\"></path>\n",
       "<path d=\"M23 26h-14c-0.552 0-1-0.448-1-1s0.448-1 1-1h14c0.552 0 1 0.448 1 1s-0.448 1-1 1z\"></path>\n",
       "<path d=\"M23 22h-14c-0.552 0-1-0.448-1-1s0.448-1 1-1h14c0.552 0 1 0.448 1 1s-0.448 1-1 1z\"></path>\n",
       "<path d=\"M23 18h-14c-0.552 0-1-0.448-1-1s0.448-1 1-1h14c0.552 0 1 0.448 1 1s-0.448 1-1 1z\"></path>\n",
       "</symbol>\n",
       "</defs>\n",
       "</svg>\n",
       "<style>/* CSS stylesheet for displaying xarray objects in jupyterlab.\n",
       " *\n",
       " */\n",
       "\n",
       ":root {\n",
       "  --xr-font-color0: var(--jp-content-font-color0, rgba(0, 0, 0, 1));\n",
       "  --xr-font-color2: var(--jp-content-font-color2, rgba(0, 0, 0, 0.54));\n",
       "  --xr-font-color3: var(--jp-content-font-color3, rgba(0, 0, 0, 0.38));\n",
       "  --xr-border-color: var(--jp-border-color2, #e0e0e0);\n",
       "  --xr-disabled-color: var(--jp-layout-color3, #bdbdbd);\n",
       "  --xr-background-color: var(--jp-layout-color0, white);\n",
       "  --xr-background-color-row-even: var(--jp-layout-color1, white);\n",
       "  --xr-background-color-row-odd: var(--jp-layout-color2, #eeeeee);\n",
       "}\n",
       "\n",
       "html[theme=dark],\n",
       "body.vscode-dark {\n",
       "  --xr-font-color0: rgba(255, 255, 255, 1);\n",
       "  --xr-font-color2: rgba(255, 255, 255, 0.54);\n",
       "  --xr-font-color3: rgba(255, 255, 255, 0.38);\n",
       "  --xr-border-color: #1F1F1F;\n",
       "  --xr-disabled-color: #515151;\n",
       "  --xr-background-color: #111111;\n",
       "  --xr-background-color-row-even: #111111;\n",
       "  --xr-background-color-row-odd: #313131;\n",
       "}\n",
       "\n",
       ".xr-wrap {\n",
       "  display: block;\n",
       "  min-width: 300px;\n",
       "  max-width: 700px;\n",
       "}\n",
       "\n",
       ".xr-text-repr-fallback {\n",
       "  /* fallback to plain text repr when CSS is not injected (untrusted notebook) */\n",
       "  display: none;\n",
       "}\n",
       "\n",
       ".xr-header {\n",
       "  padding-top: 6px;\n",
       "  padding-bottom: 6px;\n",
       "  margin-bottom: 4px;\n",
       "  border-bottom: solid 1px var(--xr-border-color);\n",
       "}\n",
       "\n",
       ".xr-header > div,\n",
       ".xr-header > ul {\n",
       "  display: inline;\n",
       "  margin-top: 0;\n",
       "  margin-bottom: 0;\n",
       "}\n",
       "\n",
       ".xr-obj-type,\n",
       ".xr-array-name {\n",
       "  margin-left: 2px;\n",
       "  margin-right: 10px;\n",
       "}\n",
       "\n",
       ".xr-obj-type {\n",
       "  color: var(--xr-font-color2);\n",
       "}\n",
       "\n",
       ".xr-sections {\n",
       "  padding-left: 0 !important;\n",
       "  display: grid;\n",
       "  grid-template-columns: 150px auto auto 1fr 20px 20px;\n",
       "}\n",
       "\n",
       ".xr-section-item {\n",
       "  display: contents;\n",
       "}\n",
       "\n",
       ".xr-section-item input {\n",
       "  display: none;\n",
       "}\n",
       "\n",
       ".xr-section-item input + label {\n",
       "  color: var(--xr-disabled-color);\n",
       "}\n",
       "\n",
       ".xr-section-item input:enabled + label {\n",
       "  cursor: pointer;\n",
       "  color: var(--xr-font-color2);\n",
       "}\n",
       "\n",
       ".xr-section-item input:enabled + label:hover {\n",
       "  color: var(--xr-font-color0);\n",
       "}\n",
       "\n",
       ".xr-section-summary {\n",
       "  grid-column: 1;\n",
       "  color: var(--xr-font-color2);\n",
       "  font-weight: 500;\n",
       "}\n",
       "\n",
       ".xr-section-summary > span {\n",
       "  display: inline-block;\n",
       "  padding-left: 0.5em;\n",
       "}\n",
       "\n",
       ".xr-section-summary-in:disabled + label {\n",
       "  color: var(--xr-font-color2);\n",
       "}\n",
       "\n",
       ".xr-section-summary-in + label:before {\n",
       "  display: inline-block;\n",
       "  content: '►';\n",
       "  font-size: 11px;\n",
       "  width: 15px;\n",
       "  text-align: center;\n",
       "}\n",
       "\n",
       ".xr-section-summary-in:disabled + label:before {\n",
       "  color: var(--xr-disabled-color);\n",
       "}\n",
       "\n",
       ".xr-section-summary-in:checked + label:before {\n",
       "  content: '▼';\n",
       "}\n",
       "\n",
       ".xr-section-summary-in:checked + label > span {\n",
       "  display: none;\n",
       "}\n",
       "\n",
       ".xr-section-summary,\n",
       ".xr-section-inline-details {\n",
       "  padding-top: 4px;\n",
       "  padding-bottom: 4px;\n",
       "}\n",
       "\n",
       ".xr-section-inline-details {\n",
       "  grid-column: 2 / -1;\n",
       "}\n",
       "\n",
       ".xr-section-details {\n",
       "  display: none;\n",
       "  grid-column: 1 / -1;\n",
       "  margin-bottom: 5px;\n",
       "}\n",
       "\n",
       ".xr-section-summary-in:checked ~ .xr-section-details {\n",
       "  display: contents;\n",
       "}\n",
       "\n",
       ".xr-array-wrap {\n",
       "  grid-column: 1 / -1;\n",
       "  display: grid;\n",
       "  grid-template-columns: 20px auto;\n",
       "}\n",
       "\n",
       ".xr-array-wrap > label {\n",
       "  grid-column: 1;\n",
       "  vertical-align: top;\n",
       "}\n",
       "\n",
       ".xr-preview {\n",
       "  color: var(--xr-font-color3);\n",
       "}\n",
       "\n",
       ".xr-array-preview,\n",
       ".xr-array-data {\n",
       "  padding: 0 5px !important;\n",
       "  grid-column: 2;\n",
       "}\n",
       "\n",
       ".xr-array-data,\n",
       ".xr-array-in:checked ~ .xr-array-preview {\n",
       "  display: none;\n",
       "}\n",
       "\n",
       ".xr-array-in:checked ~ .xr-array-data,\n",
       ".xr-array-preview {\n",
       "  display: inline-block;\n",
       "}\n",
       "\n",
       ".xr-dim-list {\n",
       "  display: inline-block !important;\n",
       "  list-style: none;\n",
       "  padding: 0 !important;\n",
       "  margin: 0;\n",
       "}\n",
       "\n",
       ".xr-dim-list li {\n",
       "  display: inline-block;\n",
       "  padding: 0;\n",
       "  margin: 0;\n",
       "}\n",
       "\n",
       ".xr-dim-list:before {\n",
       "  content: '(';\n",
       "}\n",
       "\n",
       ".xr-dim-list:after {\n",
       "  content: ')';\n",
       "}\n",
       "\n",
       ".xr-dim-list li:not(:last-child):after {\n",
       "  content: ',';\n",
       "  padding-right: 5px;\n",
       "}\n",
       "\n",
       ".xr-has-index {\n",
       "  font-weight: bold;\n",
       "}\n",
       "\n",
       ".xr-var-list,\n",
       ".xr-var-item {\n",
       "  display: contents;\n",
       "}\n",
       "\n",
       ".xr-var-item > div,\n",
       ".xr-var-item label,\n",
       ".xr-var-item > .xr-var-name span {\n",
       "  background-color: var(--xr-background-color-row-even);\n",
       "  margin-bottom: 0;\n",
       "}\n",
       "\n",
       ".xr-var-item > .xr-var-name:hover span {\n",
       "  padding-right: 5px;\n",
       "}\n",
       "\n",
       ".xr-var-list > li:nth-child(odd) > div,\n",
       ".xr-var-list > li:nth-child(odd) > label,\n",
       ".xr-var-list > li:nth-child(odd) > .xr-var-name span {\n",
       "  background-color: var(--xr-background-color-row-odd);\n",
       "}\n",
       "\n",
       ".xr-var-name {\n",
       "  grid-column: 1;\n",
       "}\n",
       "\n",
       ".xr-var-dims {\n",
       "  grid-column: 2;\n",
       "}\n",
       "\n",
       ".xr-var-dtype {\n",
       "  grid-column: 3;\n",
       "  text-align: right;\n",
       "  color: var(--xr-font-color2);\n",
       "}\n",
       "\n",
       ".xr-var-preview {\n",
       "  grid-column: 4;\n",
       "}\n",
       "\n",
       ".xr-var-name,\n",
       ".xr-var-dims,\n",
       ".xr-var-dtype,\n",
       ".xr-preview,\n",
       ".xr-attrs dt {\n",
       "  white-space: nowrap;\n",
       "  overflow: hidden;\n",
       "  text-overflow: ellipsis;\n",
       "  padding-right: 10px;\n",
       "}\n",
       "\n",
       ".xr-var-name:hover,\n",
       ".xr-var-dims:hover,\n",
       ".xr-var-dtype:hover,\n",
       ".xr-attrs dt:hover {\n",
       "  overflow: visible;\n",
       "  width: auto;\n",
       "  z-index: 1;\n",
       "}\n",
       "\n",
       ".xr-var-attrs,\n",
       ".xr-var-data {\n",
       "  display: none;\n",
       "  background-color: var(--xr-background-color) !important;\n",
       "  padding-bottom: 5px !important;\n",
       "}\n",
       "\n",
       ".xr-var-attrs-in:checked ~ .xr-var-attrs,\n",
       ".xr-var-data-in:checked ~ .xr-var-data {\n",
       "  display: block;\n",
       "}\n",
       "\n",
       ".xr-var-data > table {\n",
       "  float: right;\n",
       "}\n",
       "\n",
       ".xr-var-name span,\n",
       ".xr-var-data,\n",
       ".xr-attrs {\n",
       "  padding-left: 25px !important;\n",
       "}\n",
       "\n",
       ".xr-attrs,\n",
       ".xr-var-attrs,\n",
       ".xr-var-data {\n",
       "  grid-column: 1 / -1;\n",
       "}\n",
       "\n",
       "dl.xr-attrs {\n",
       "  padding: 0;\n",
       "  margin: 0;\n",
       "  display: grid;\n",
       "  grid-template-columns: 125px auto;\n",
       "}\n",
       "\n",
       ".xr-attrs dt,\n",
       ".xr-attrs dd {\n",
       "  padding: 0;\n",
       "  margin: 0;\n",
       "  float: left;\n",
       "  padding-right: 10px;\n",
       "  width: auto;\n",
       "}\n",
       "\n",
       ".xr-attrs dt {\n",
       "  font-weight: normal;\n",
       "  grid-column: 1;\n",
       "}\n",
       "\n",
       ".xr-attrs dt:hover span {\n",
       "  display: inline-block;\n",
       "  background: var(--xr-background-color);\n",
       "  padding-right: 10px;\n",
       "}\n",
       "\n",
       ".xr-attrs dd {\n",
       "  grid-column: 2;\n",
       "  white-space: pre-wrap;\n",
       "  word-break: break-all;\n",
       "}\n",
       "\n",
       ".xr-icon-database,\n",
       ".xr-icon-file-text2 {\n",
       "  display: inline-block;\n",
       "  vertical-align: middle;\n",
       "  width: 1em;\n",
       "  height: 1.5em !important;\n",
       "  stroke-width: 0;\n",
       "  stroke: currentColor;\n",
       "  fill: currentColor;\n",
       "}\n",
       "</style><pre class='xr-text-repr-fallback'>&lt;xarray.Dataset&gt;\n",
       "Dimensions:  (lat: 181, lon: 361)\n",
       "Coordinates:\n",
       "  * lat      (lat) float64 -90.0 -89.0 -88.0 -87.0 -86.0 ... 87.0 88.0 89.0 90.0\n",
       "  * lon      (lon) float64 0.0 1.0 2.0 3.0 4.0 ... 356.0 357.0 358.0 359.0 360.0\n",
       "Data variables:\n",
       "    *empty*</pre><div class='xr-wrap' hidden><div class='xr-header'><div class='xr-obj-type'>xarray.Dataset</div></div><ul class='xr-sections'><li class='xr-section-item'><input id='section-94920340-35ab-4bd4-8fd4-46e27c0cb03b' class='xr-section-summary-in' type='checkbox' disabled ><label for='section-94920340-35ab-4bd4-8fd4-46e27c0cb03b' class='xr-section-summary'  title='Expand/collapse section'>Dimensions:</label><div class='xr-section-inline-details'><ul class='xr-dim-list'><li><span class='xr-has-index'>lat</span>: 181</li><li><span class='xr-has-index'>lon</span>: 361</li></ul></div><div class='xr-section-details'></div></li><li class='xr-section-item'><input id='section-a01ed077-2c3c-47e6-bfe9-f537366ed68e' class='xr-section-summary-in' type='checkbox'  checked><label for='section-a01ed077-2c3c-47e6-bfe9-f537366ed68e' class='xr-section-summary' >Coordinates: <span>(2)</span></label><div class='xr-section-inline-details'></div><div class='xr-section-details'><ul class='xr-var-list'><li class='xr-var-item'><div class='xr-var-name'><span class='xr-has-index'>lat</span></div><div class='xr-var-dims'>(lat)</div><div class='xr-var-dtype'>float64</div><div class='xr-var-preview xr-preview'>-90.0 -89.0 -88.0 ... 89.0 90.0</div><input id='attrs-0661dcc5-0857-453f-b234-fc2ed29f6763' class='xr-var-attrs-in' type='checkbox' disabled><label for='attrs-0661dcc5-0857-453f-b234-fc2ed29f6763' title='Show/Hide attributes'><svg class='icon xr-icon-file-text2'><use xlink:href='#icon-file-text2'></use></svg></label><input id='data-14a93f21-3396-41d9-b94b-9f64bd647d0d' class='xr-var-data-in' type='checkbox'><label for='data-14a93f21-3396-41d9-b94b-9f64bd647d0d' title='Show/Hide data repr'><svg class='icon xr-icon-database'><use xlink:href='#icon-database'></use></svg></label><div class='xr-var-attrs'><dl class='xr-attrs'></dl></div><div class='xr-var-data'><pre>array([-90., -89., -88., -87., -86., -85., -84., -83., -82., -81., -80., -79.,\n",
       "       -78., -77., -76., -75., -74., -73., -72., -71., -70., -69., -68., -67.,\n",
       "       -66., -65., -64., -63., -62., -61., -60., -59., -58., -57., -56., -55.,\n",
       "       -54., -53., -52., -51., -50., -49., -48., -47., -46., -45., -44., -43.,\n",
       "       -42., -41., -40., -39., -38., -37., -36., -35., -34., -33., -32., -31.,\n",
       "       -30., -29., -28., -27., -26., -25., -24., -23., -22., -21., -20., -19.,\n",
       "       -18., -17., -16., -15., -14., -13., -12., -11., -10.,  -9.,  -8.,  -7.,\n",
       "        -6.,  -5.,  -4.,  -3.,  -2.,  -1.,   0.,   1.,   2.,   3.,   4.,   5.,\n",
       "         6.,   7.,   8.,   9.,  10.,  11.,  12.,  13.,  14.,  15.,  16.,  17.,\n",
       "        18.,  19.,  20.,  21.,  22.,  23.,  24.,  25.,  26.,  27.,  28.,  29.,\n",
       "        30.,  31.,  32.,  33.,  34.,  35.,  36.,  37.,  38.,  39.,  40.,  41.,\n",
       "        42.,  43.,  44.,  45.,  46.,  47.,  48.,  49.,  50.,  51.,  52.,  53.,\n",
       "        54.,  55.,  56.,  57.,  58.,  59.,  60.,  61.,  62.,  63.,  64.,  65.,\n",
       "        66.,  67.,  68.,  69.,  70.,  71.,  72.,  73.,  74.,  75.,  76.,  77.,\n",
       "        78.,  79.,  80.,  81.,  82.,  83.,  84.,  85.,  86.,  87.,  88.,  89.,\n",
       "        90.])</pre></div></li><li class='xr-var-item'><div class='xr-var-name'><span class='xr-has-index'>lon</span></div><div class='xr-var-dims'>(lon)</div><div class='xr-var-dtype'>float64</div><div class='xr-var-preview xr-preview'>0.0 1.0 2.0 ... 358.0 359.0 360.0</div><input id='attrs-91c44544-1606-40d1-a64d-17278465bab9' class='xr-var-attrs-in' type='checkbox' disabled><label for='attrs-91c44544-1606-40d1-a64d-17278465bab9' title='Show/Hide attributes'><svg class='icon xr-icon-file-text2'><use xlink:href='#icon-file-text2'></use></svg></label><input id='data-1229a43a-f19e-4575-9c93-f4aacb354a04' class='xr-var-data-in' type='checkbox'><label for='data-1229a43a-f19e-4575-9c93-f4aacb354a04' title='Show/Hide data repr'><svg class='icon xr-icon-database'><use xlink:href='#icon-database'></use></svg></label><div class='xr-var-attrs'><dl class='xr-attrs'></dl></div><div class='xr-var-data'><pre>array([  0.,   1.,   2., ..., 358., 359., 360.])</pre></div></li></ul></div></li><li class='xr-section-item'><input id='section-081a6cef-197e-4cf4-87fb-e96df7e99c45' class='xr-section-summary-in' type='checkbox' disabled ><label for='section-081a6cef-197e-4cf4-87fb-e96df7e99c45' class='xr-section-summary'  title='Expand/collapse section'>Data variables: <span>(0)</span></label><div class='xr-section-inline-details'></div><div class='xr-section-details'><ul class='xr-var-list'></ul></div></li><li class='xr-section-item'><input id='section-7d54a71d-36a3-4609-a2d7-ca3880c813c9' class='xr-section-summary-in' type='checkbox' disabled ><label for='section-7d54a71d-36a3-4609-a2d7-ca3880c813c9' class='xr-section-summary'  title='Expand/collapse section'>Attributes: <span>(0)</span></label><div class='xr-section-inline-details'></div><div class='xr-section-details'><dl class='xr-attrs'></dl></div></li></ul></div></div>"
      ],
      "text/plain": [
       "<xarray.Dataset>\n",
       "Dimensions:  (lat: 181, lon: 361)\n",
       "Coordinates:\n",
       "  * lat      (lat) float64 -90.0 -89.0 -88.0 -87.0 -86.0 ... 87.0 88.0 89.0 90.0\n",
       "  * lon      (lon) float64 0.0 1.0 2.0 3.0 4.0 ... 356.0 357.0 358.0 359.0 360.0\n",
       "Data variables:\n",
       "    *empty*"
      ]
     },
     "execution_count": 22,
     "metadata": {},
     "output_type": "execute_result"
    }
   ],
   "source": [
    "# regrid method: also an algorythm\n",
    "ds_out = xr.Dataset({'lat': (['lat'], np.arange(-90, 91, 1.0)),\n",
    "                     'lon': (['lon'], np.arange(0, 361, 1.0)),\n",
    "                    }\n",
    "                   )\n",
    "ds_out"
   ]
  },
  {
   "cell_type": "code",
   "execution_count": 23,
   "metadata": {},
   "outputs": [
    {
     "name": "stdout",
     "output_type": "stream",
     "text": [
      "CESM2\n",
      "CESM2-WACCM\n",
      "GFDL-CM4\n",
      "GFDL-ESM4\n",
      "IPSL-CM6A-LR\n",
      "GISS-E2-1-G\n",
      "GISS-E2-1-G-CC\n",
      "MIROC-ES2L\n",
      "NorCPM1\n",
      "NorESM2-LM\n",
      "MPI-ESM1-2-HR\n",
      "UKESM1-0-LL\n",
      "UKESM1-0-LL : no data\n",
      "CNRM-ESM2-1\n",
      "CNRM-ESM2-1 : no data\n",
      "ACCESS-ESM1-5\n",
      "MPI-ESM1-2-LR\n",
      "CanESM5-CanOE\n",
      "CanESM5\n",
      "EC-Earth3\n"
     ]
    }
   ],
   "source": [
    "# version from Github\n",
    "# logic: Read a model and pull the var (Surface are with -\"os\" whichever is available) \n",
    "\n",
    "df = pd.read_csv('https://storage.googleapis.com/cmip6/cmip6-zarr-consolidated-stores.csv')\n",
    "\n",
    "\n",
    "# skip MRi model due to time format. Updated list. sometimes it works. I am confused\n",
    "models = ['CESM2', 'CESM2-WACCM', 'GFDL-CM4', 'GFDL-ESM4', 'IPSL-CM6A-LR',  \n",
    "          'GISS-E2-1-G', 'GISS-E2-1-G-CC', 'MIROC-ES2L', 'NorCPM1', \n",
    "           'NorESM2-LM', 'MPI-ESM1-2-HR', 'UKESM1-0-LL', 'CNRM-ESM2-1','ACCESS-ESM1-5','MPI-ESM1-2-LR',\n",
    "            'CanESM5-CanOE','CanESM5','EC-Earth3' ]\n",
    "\n",
    "# varnames = ['phyc', 'chlos', 'phydiatos', 'intpp','tos']\n",
    "# var = ['tos']\n",
    "# var = 'chlmisc'\n",
    "# var = 'phyc'\n",
    "# var = 'dfeos'\n",
    "# var = 'intppdiat'\n",
    "# var = 'phydiat'\n",
    "# var = 'epc100'\n",
    "# var = 'tos'\n",
    "# var = 'spco2'\n",
    "# var = 'fgco2'\n",
    "# var = 'intpp'\n",
    "# var = 'zpico'\n",
    "# var = 'rsntds'\n",
    "# var = 'zooc'\n",
    "# var = 'no3os'\n",
    "# var='sios'\n",
    "expe = 'historical'\n",
    "freq = 'Omon'\n",
    "\n",
    "# var2 = 'phyc'\n",
    "start_time = '2003'\n",
    "end_time = '2007'\n",
    "# #seconf set for the end of 100 years\n",
    "# expe2 = 'ssp585'\n",
    "# start_time2 = '2081'\n",
    "# end_time2 = '2082' #2099\n",
    "\n",
    "var = 't'\n",
    "var2 = var+'os'\n",
    "\n",
    "\n",
    "xrays = []\n",
    "# xrays2 = []\n",
    "new_models = []\n",
    "\n",
    "for model in models:\n",
    "    print(model)\n",
    "    xray = get_data(df, var2, model, expe, freq)\n",
    "    if model == 'UKESM1-0-LL' or model ==  'CNRM-ESM2-1': \n",
    "        xray = get_data(df, var, model, expe, freq) \n",
    "    \n",
    "    \n",
    "    # if xray is not empty\n",
    "    if isinstance(xray, xr.Dataset):  \n",
    "         \n",
    "#         xray2 = get_data(df, var, model, expe2, freq)\n",
    "#         if isinstance(xray2, xr.Dataset):\n",
    "            xrays.append(xray)\n",
    "        \n",
    "#             xrays2.append(xray2)\n",
    "        \n",
    "            new_models.append(model)\n",
    "        \n",
    "xray_dic = {key:value for key, value in zip(new_models, xrays)}\n",
    "# xray2_dic = {key:value for key, value in zip(new_models, xrays2)}\n",
    "\n",
    "\n",
    "\n",
    "\n",
    "\n",
    "\n"
   ]
  },
  {
   "cell_type": "code",
   "execution_count": 24,
   "metadata": {},
   "outputs": [
    {
     "name": "stdout",
     "output_type": "stream",
     "text": [
      "['CESM2', 'CESM2-WACCM', 'GFDL-CM4', 'GFDL-ESM4', 'IPSL-CM6A-LR', 'GISS-E2-1-G', 'GISS-E2-1-G-CC', 'MIROC-ES2L', 'NorCPM1', 'NorESM2-LM', 'MPI-ESM1-2-HR', 'ACCESS-ESM1-5', 'MPI-ESM1-2-LR', 'CanESM5-CanOE', 'CanESM5', 'EC-Earth3']\n"
     ]
    }
   ],
   "source": [
    "print(new_models)"
   ]
  },
  {
   "cell_type": "markdown",
   "metadata": {},
   "source": [
    "For a map of average"
   ]
  },
  {
   "cell_type": "code",
   "execution_count": 25,
   "metadata": {},
   "outputs": [
    {
     "name": "stdout",
     "output_type": "stream",
     "text": [
      "CESM2\n"
     ]
    },
    {
     "name": "stderr",
     "output_type": "stream",
     "text": [
      "/srv/conda/envs/notebook/lib/python3.8/site-packages/cf_xarray/accessor.py:1043: UserWarning: Variables {'lon_bnds'} not found in object but are referred to in the CF attributes.\n",
      "  warnings.warn(\n",
      "/srv/conda/envs/notebook/lib/python3.8/site-packages/cf_xarray/accessor.py:1043: UserWarning: Variables {'lat_bnds'} not found in object but are referred to in the CF attributes.\n",
      "  warnings.warn(\n",
      "/srv/conda/envs/notebook/lib/python3.8/site-packages/dask/array/core.py:381: FutureWarning: elementwise comparison failed; returning scalar instead, but in the future will perform elementwise comparison\n",
      "  o = func(*args, **kwargs)\n",
      "/srv/conda/envs/notebook/lib/python3.8/site-packages/xesmf/frontend.py:439: FutureWarning: ``output_sizes`` should be given in the ``dask_gufunc_kwargs`` parameter. It will be removed as direct parameter in a future version.\n",
      "  dr_out = xr.apply_ufunc(\n",
      "/srv/conda/envs/notebook/lib/python3.8/site-packages/cf_xarray/accessor.py:1043: UserWarning: Variables {'lon_bnds'} not found in object but are referred to in the CF attributes.\n",
      "  warnings.warn(\n",
      "/srv/conda/envs/notebook/lib/python3.8/site-packages/cf_xarray/accessor.py:1043: UserWarning: Variables {'lat_bnds'} not found in object but are referred to in the CF attributes.\n",
      "  warnings.warn(\n",
      "/srv/conda/envs/notebook/lib/python3.8/site-packages/dask/array/core.py:381: FutureWarning: elementwise comparison failed; returning scalar instead, but in the future will perform elementwise comparison\n",
      "  o = func(*args, **kwargs)\n"
     ]
    },
    {
     "name": "stdout",
     "output_type": "stream",
     "text": [
      "CESM2-WACCM\n"
     ]
    },
    {
     "name": "stderr",
     "output_type": "stream",
     "text": [
      "/srv/conda/envs/notebook/lib/python3.8/site-packages/xesmf/frontend.py:439: FutureWarning: ``output_sizes`` should be given in the ``dask_gufunc_kwargs`` parameter. It will be removed as direct parameter in a future version.\n",
      "  dr_out = xr.apply_ufunc(\n",
      "/srv/conda/envs/notebook/lib/python3.8/site-packages/cf_xarray/accessor.py:1043: UserWarning: Variables {'lon_bnds'} not found in object but are referred to in the CF attributes.\n",
      "  warnings.warn(\n",
      "/srv/conda/envs/notebook/lib/python3.8/site-packages/cf_xarray/accessor.py:1043: UserWarning: Variables {'lat_bnds'} not found in object but are referred to in the CF attributes.\n",
      "  warnings.warn(\n",
      "/srv/conda/envs/notebook/lib/python3.8/site-packages/dask/array/core.py:381: FutureWarning: elementwise comparison failed; returning scalar instead, but in the future will perform elementwise comparison\n",
      "  o = func(*args, **kwargs)\n"
     ]
    },
    {
     "name": "stdout",
     "output_type": "stream",
     "text": [
      "GFDL-CM4\n"
     ]
    },
    {
     "name": "stderr",
     "output_type": "stream",
     "text": [
      "/srv/conda/envs/notebook/lib/python3.8/site-packages/xesmf/frontend.py:439: FutureWarning: ``output_sizes`` should be given in the ``dask_gufunc_kwargs`` parameter. It will be removed as direct parameter in a future version.\n",
      "  dr_out = xr.apply_ufunc(\n",
      "/srv/conda/envs/notebook/lib/python3.8/site-packages/cf_xarray/accessor.py:1043: UserWarning: Variables {'lon_bnds'} not found in object but are referred to in the CF attributes.\n",
      "  warnings.warn(\n",
      "/srv/conda/envs/notebook/lib/python3.8/site-packages/cf_xarray/accessor.py:1043: UserWarning: Variables {'lat_bnds'} not found in object but are referred to in the CF attributes.\n",
      "  warnings.warn(\n",
      "/srv/conda/envs/notebook/lib/python3.8/site-packages/dask/array/core.py:381: FutureWarning: elementwise comparison failed; returning scalar instead, but in the future will perform elementwise comparison\n",
      "  o = func(*args, **kwargs)\n"
     ]
    },
    {
     "name": "stdout",
     "output_type": "stream",
     "text": [
      "GFDL-ESM4\n"
     ]
    },
    {
     "name": "stderr",
     "output_type": "stream",
     "text": [
      "/srv/conda/envs/notebook/lib/python3.8/site-packages/xesmf/frontend.py:439: FutureWarning: ``output_sizes`` should be given in the ``dask_gufunc_kwargs`` parameter. It will be removed as direct parameter in a future version.\n",
      "  dr_out = xr.apply_ufunc(\n",
      "/srv/conda/envs/notebook/lib/python3.8/site-packages/cf_xarray/accessor.py:1043: UserWarning: Variables {'bounds_nav_lon'} not found in object but are referred to in the CF attributes.\n",
      "  warnings.warn(\n",
      "/srv/conda/envs/notebook/lib/python3.8/site-packages/cf_xarray/accessor.py:1043: UserWarning: Variables {'bounds_nav_lat'} not found in object but are referred to in the CF attributes.\n",
      "  warnings.warn(\n",
      "/srv/conda/envs/notebook/lib/python3.8/site-packages/dask/array/core.py:381: FutureWarning: elementwise comparison failed; returning scalar instead, but in the future will perform elementwise comparison\n",
      "  o = func(*args, **kwargs)\n"
     ]
    },
    {
     "name": "stdout",
     "output_type": "stream",
     "text": [
      "IPSL-CM6A-LR\n"
     ]
    },
    {
     "name": "stderr",
     "output_type": "stream",
     "text": [
      "/srv/conda/envs/notebook/lib/python3.8/site-packages/xesmf/frontend.py:439: FutureWarning: ``output_sizes`` should be given in the ``dask_gufunc_kwargs`` parameter. It will be removed as direct parameter in a future version.\n",
      "  dr_out = xr.apply_ufunc(\n",
      "/srv/conda/envs/notebook/lib/python3.8/site-packages/cf_xarray/accessor.py:1043: UserWarning: Variables {'lon_bnds'} not found in object but are referred to in the CF attributes.\n",
      "  warnings.warn(\n",
      "/srv/conda/envs/notebook/lib/python3.8/site-packages/cf_xarray/accessor.py:1043: UserWarning: Variables {'lat_bnds'} not found in object but are referred to in the CF attributes.\n",
      "  warnings.warn(\n",
      "/srv/conda/envs/notebook/lib/python3.8/site-packages/dask/array/core.py:381: FutureWarning: elementwise comparison failed; returning scalar instead, but in the future will perform elementwise comparison\n",
      "  o = func(*args, **kwargs)\n"
     ]
    },
    {
     "name": "stdout",
     "output_type": "stream",
     "text": [
      "GISS-E2-1-G\n"
     ]
    },
    {
     "name": "stderr",
     "output_type": "stream",
     "text": [
      "/srv/conda/envs/notebook/lib/python3.8/site-packages/xesmf/frontend.py:439: FutureWarning: ``output_sizes`` should be given in the ``dask_gufunc_kwargs`` parameter. It will be removed as direct parameter in a future version.\n",
      "  dr_out = xr.apply_ufunc(\n",
      "/srv/conda/envs/notebook/lib/python3.8/site-packages/cf_xarray/accessor.py:1043: UserWarning: Variables {'lon_bnds'} not found in object but are referred to in the CF attributes.\n",
      "  warnings.warn(\n",
      "/srv/conda/envs/notebook/lib/python3.8/site-packages/cf_xarray/accessor.py:1043: UserWarning: Variables {'lat_bnds'} not found in object but are referred to in the CF attributes.\n",
      "  warnings.warn(\n",
      "/srv/conda/envs/notebook/lib/python3.8/site-packages/dask/array/core.py:381: FutureWarning: elementwise comparison failed; returning scalar instead, but in the future will perform elementwise comparison\n",
      "  o = func(*args, **kwargs)\n"
     ]
    },
    {
     "name": "stdout",
     "output_type": "stream",
     "text": [
      "GISS-E2-1-G-CC\n"
     ]
    },
    {
     "name": "stderr",
     "output_type": "stream",
     "text": [
      "/srv/conda/envs/notebook/lib/python3.8/site-packages/xesmf/frontend.py:439: FutureWarning: ``output_sizes`` should be given in the ``dask_gufunc_kwargs`` parameter. It will be removed as direct parameter in a future version.\n",
      "  dr_out = xr.apply_ufunc(\n",
      "/srv/conda/envs/notebook/lib/python3.8/site-packages/cf_xarray/accessor.py:1043: UserWarning: Variables {'y_bnds', 'vertices_longitude', 'x_bnds'} not found in object but are referred to in the CF attributes.\n",
      "  warnings.warn(\n",
      "/srv/conda/envs/notebook/lib/python3.8/site-packages/cf_xarray/accessor.py:1043: UserWarning: Variables {'y_bnds', 'x_bnds', 'vertices_latitude'} not found in object but are referred to in the CF attributes.\n",
      "  warnings.warn(\n",
      "/srv/conda/envs/notebook/lib/python3.8/site-packages/dask/array/core.py:381: FutureWarning: elementwise comparison failed; returning scalar instead, but in the future will perform elementwise comparison\n",
      "  o = func(*args, **kwargs)\n"
     ]
    },
    {
     "name": "stdout",
     "output_type": "stream",
     "text": [
      "MIROC-ES2L\n"
     ]
    },
    {
     "name": "stderr",
     "output_type": "stream",
     "text": [
      "/srv/conda/envs/notebook/lib/python3.8/site-packages/xesmf/frontend.py:439: FutureWarning: ``output_sizes`` should be given in the ``dask_gufunc_kwargs`` parameter. It will be removed as direct parameter in a future version.\n",
      "  dr_out = xr.apply_ufunc(\n",
      "/srv/conda/envs/notebook/lib/python3.8/site-packages/cf_xarray/accessor.py:1043: UserWarning: Variables {'vertices_longitude'} not found in object but are referred to in the CF attributes.\n",
      "  warnings.warn(\n",
      "/srv/conda/envs/notebook/lib/python3.8/site-packages/cf_xarray/accessor.py:1043: UserWarning: Variables {'vertices_latitude'} not found in object but are referred to in the CF attributes.\n",
      "  warnings.warn(\n",
      "/srv/conda/envs/notebook/lib/python3.8/site-packages/dask/array/core.py:381: FutureWarning: elementwise comparison failed; returning scalar instead, but in the future will perform elementwise comparison\n",
      "  o = func(*args, **kwargs)\n"
     ]
    },
    {
     "name": "stdout",
     "output_type": "stream",
     "text": [
      "NorCPM1\n"
     ]
    },
    {
     "name": "stderr",
     "output_type": "stream",
     "text": [
      "/srv/conda/envs/notebook/lib/python3.8/site-packages/xesmf/frontend.py:439: FutureWarning: ``output_sizes`` should be given in the ``dask_gufunc_kwargs`` parameter. It will be removed as direct parameter in a future version.\n",
      "  dr_out = xr.apply_ufunc(\n",
      "/srv/conda/envs/notebook/lib/python3.8/site-packages/cf_xarray/accessor.py:1043: UserWarning: Variables {'vertices_longitude'} not found in object but are referred to in the CF attributes.\n",
      "  warnings.warn(\n",
      "/srv/conda/envs/notebook/lib/python3.8/site-packages/cf_xarray/accessor.py:1043: UserWarning: Variables {'vertices_latitude'} not found in object but are referred to in the CF attributes.\n",
      "  warnings.warn(\n",
      "/srv/conda/envs/notebook/lib/python3.8/site-packages/dask/array/core.py:381: FutureWarning: elementwise comparison failed; returning scalar instead, but in the future will perform elementwise comparison\n",
      "  o = func(*args, **kwargs)\n"
     ]
    },
    {
     "name": "stdout",
     "output_type": "stream",
     "text": [
      "NorESM2-LM\n"
     ]
    },
    {
     "name": "stderr",
     "output_type": "stream",
     "text": [
      "/srv/conda/envs/notebook/lib/python3.8/site-packages/xesmf/frontend.py:439: FutureWarning: ``output_sizes`` should be given in the ``dask_gufunc_kwargs`` parameter. It will be removed as direct parameter in a future version.\n",
      "  dr_out = xr.apply_ufunc(\n",
      "/srv/conda/envs/notebook/lib/python3.8/site-packages/cf_xarray/accessor.py:1043: UserWarning: Variables {'vertices_longitude'} not found in object but are referred to in the CF attributes.\n",
      "  warnings.warn(\n",
      "/srv/conda/envs/notebook/lib/python3.8/site-packages/cf_xarray/accessor.py:1043: UserWarning: Variables {'vertices_latitude'} not found in object but are referred to in the CF attributes.\n",
      "  warnings.warn(\n",
      "/srv/conda/envs/notebook/lib/python3.8/site-packages/dask/array/core.py:381: FutureWarning: elementwise comparison failed; returning scalar instead, but in the future will perform elementwise comparison\n",
      "  o = func(*args, **kwargs)\n"
     ]
    },
    {
     "name": "stdout",
     "output_type": "stream",
     "text": [
      "MPI-ESM1-2-HR\n"
     ]
    },
    {
     "name": "stderr",
     "output_type": "stream",
     "text": [
      "/srv/conda/envs/notebook/lib/python3.8/site-packages/xesmf/frontend.py:439: FutureWarning: ``output_sizes`` should be given in the ``dask_gufunc_kwargs`` parameter. It will be removed as direct parameter in a future version.\n",
      "  dr_out = xr.apply_ufunc(\n",
      "/srv/conda/envs/notebook/lib/python3.8/site-packages/cf_xarray/accessor.py:1043: UserWarning: Variables {'vertices_longitude'} not found in object but are referred to in the CF attributes.\n",
      "  warnings.warn(\n",
      "/srv/conda/envs/notebook/lib/python3.8/site-packages/cf_xarray/accessor.py:1043: UserWarning: Variables {'vertices_latitude'} not found in object but are referred to in the CF attributes.\n",
      "  warnings.warn(\n",
      "/srv/conda/envs/notebook/lib/python3.8/site-packages/dask/array/core.py:381: FutureWarning: elementwise comparison failed; returning scalar instead, but in the future will perform elementwise comparison\n",
      "  o = func(*args, **kwargs)\n"
     ]
    },
    {
     "name": "stdout",
     "output_type": "stream",
     "text": [
      "ACCESS-ESM1-5\n"
     ]
    },
    {
     "name": "stderr",
     "output_type": "stream",
     "text": [
      "/srv/conda/envs/notebook/lib/python3.8/site-packages/xesmf/frontend.py:439: FutureWarning: ``output_sizes`` should be given in the ``dask_gufunc_kwargs`` parameter. It will be removed as direct parameter in a future version.\n",
      "  dr_out = xr.apply_ufunc(\n",
      "/srv/conda/envs/notebook/lib/python3.8/site-packages/cf_xarray/accessor.py:1043: UserWarning: Variables {'vertices_longitude'} not found in object but are referred to in the CF attributes.\n",
      "  warnings.warn(\n",
      "/srv/conda/envs/notebook/lib/python3.8/site-packages/cf_xarray/accessor.py:1043: UserWarning: Variables {'vertices_latitude'} not found in object but are referred to in the CF attributes.\n",
      "  warnings.warn(\n",
      "/srv/conda/envs/notebook/lib/python3.8/site-packages/dask/array/core.py:381: FutureWarning: elementwise comparison failed; returning scalar instead, but in the future will perform elementwise comparison\n",
      "  o = func(*args, **kwargs)\n"
     ]
    },
    {
     "name": "stdout",
     "output_type": "stream",
     "text": [
      "MPI-ESM1-2-LR\n"
     ]
    },
    {
     "name": "stderr",
     "output_type": "stream",
     "text": [
      "/srv/conda/envs/notebook/lib/python3.8/site-packages/xesmf/frontend.py:439: FutureWarning: ``output_sizes`` should be given in the ``dask_gufunc_kwargs`` parameter. It will be removed as direct parameter in a future version.\n",
      "  dr_out = xr.apply_ufunc(\n",
      "/srv/conda/envs/notebook/lib/python3.8/site-packages/cf_xarray/accessor.py:1043: UserWarning: Variables {'vertices_longitude'} not found in object but are referred to in the CF attributes.\n",
      "  warnings.warn(\n",
      "/srv/conda/envs/notebook/lib/python3.8/site-packages/cf_xarray/accessor.py:1043: UserWarning: Variables {'vertices_latitude'} not found in object but are referred to in the CF attributes.\n",
      "  warnings.warn(\n",
      "/srv/conda/envs/notebook/lib/python3.8/site-packages/dask/array/core.py:381: FutureWarning: elementwise comparison failed; returning scalar instead, but in the future will perform elementwise comparison\n",
      "  o = func(*args, **kwargs)\n"
     ]
    },
    {
     "name": "stdout",
     "output_type": "stream",
     "text": [
      "CanESM5-CanOE\n"
     ]
    },
    {
     "name": "stderr",
     "output_type": "stream",
     "text": [
      "/srv/conda/envs/notebook/lib/python3.8/site-packages/xesmf/frontend.py:439: FutureWarning: ``output_sizes`` should be given in the ``dask_gufunc_kwargs`` parameter. It will be removed as direct parameter in a future version.\n",
      "  dr_out = xr.apply_ufunc(\n",
      "/srv/conda/envs/notebook/lib/python3.8/site-packages/cf_xarray/accessor.py:1043: UserWarning: Variables {'vertices_longitude'} not found in object but are referred to in the CF attributes.\n",
      "  warnings.warn(\n",
      "/srv/conda/envs/notebook/lib/python3.8/site-packages/cf_xarray/accessor.py:1043: UserWarning: Variables {'vertices_latitude'} not found in object but are referred to in the CF attributes.\n",
      "  warnings.warn(\n",
      "/srv/conda/envs/notebook/lib/python3.8/site-packages/dask/array/core.py:381: FutureWarning: elementwise comparison failed; returning scalar instead, but in the future will perform elementwise comparison\n",
      "  o = func(*args, **kwargs)\n"
     ]
    },
    {
     "name": "stdout",
     "output_type": "stream",
     "text": [
      "CanESM5\n"
     ]
    },
    {
     "name": "stderr",
     "output_type": "stream",
     "text": [
      "/srv/conda/envs/notebook/lib/python3.8/site-packages/xesmf/frontend.py:439: FutureWarning: ``output_sizes`` should be given in the ``dask_gufunc_kwargs`` parameter. It will be removed as direct parameter in a future version.\n",
      "  dr_out = xr.apply_ufunc(\n",
      "/srv/conda/envs/notebook/lib/python3.8/site-packages/cf_xarray/accessor.py:1043: UserWarning: Variables {'vertices_longitude'} not found in object but are referred to in the CF attributes.\n",
      "  warnings.warn(\n",
      "/srv/conda/envs/notebook/lib/python3.8/site-packages/cf_xarray/accessor.py:1043: UserWarning: Variables {'vertices_latitude'} not found in object but are referred to in the CF attributes.\n",
      "  warnings.warn(\n",
      "/srv/conda/envs/notebook/lib/python3.8/site-packages/dask/array/core.py:381: FutureWarning: elementwise comparison failed; returning scalar instead, but in the future will perform elementwise comparison\n",
      "  o = func(*args, **kwargs)\n"
     ]
    },
    {
     "name": "stdout",
     "output_type": "stream",
     "text": [
      "EC-Earth3\n",
      "CPU times: user 2min 21s, sys: 14 s, total: 2min 35s\n",
      "Wall time: 2min 35s\n"
     ]
    },
    {
     "name": "stderr",
     "output_type": "stream",
     "text": [
      "/srv/conda/envs/notebook/lib/python3.8/site-packages/xesmf/frontend.py:439: FutureWarning: ``output_sizes`` should be given in the ``dask_gufunc_kwargs`` parameter. It will be removed as direct parameter in a future version.\n",
      "  dr_out = xr.apply_ufunc(\n"
     ]
    }
   ],
   "source": [
    "%%time\n",
    "\n",
    "# \n",
    "regrids1 = []\n",
    "# regrids2 = []\n",
    "# regrids3 = []\n",
    "\n",
    "\n",
    "for model in new_models:\n",
    "    print(model)\n",
    "    vvar = var+'os' \n",
    "    if 'latitude' in xray_dic[model].coords:    \n",
    "        xray_dic[model] = xray_dic[model].rename({'longitude': 'lon', 'latitude': 'lat'})\n",
    "    if 'nav_lat' in xray_dic[model].coords:\n",
    "        xray_dic[model] = xray_dic[model].rename({'nav_lon': 'lon', 'nav_lat': 'lat'})\n",
    "    if model == 'UKESM1-0-LL' or model ==  'CNRM-ESM2-1': \n",
    "        vvar = var \n",
    "    \n",
    "    ds = xray_dic[model].sel(time=slice(start_time, end_time))[vvar].mean(dim='time')\n",
    "#     ds_end = xray2_dic[model].sel(time=slice(start_time2, end_time2))[var].mean(dim='time')\n",
    "    \n",
    "    \n",
    "    if 'lev_partial' in ds.coords:\n",
    "        ds = ds.isel(lev_partial=0)\n",
    "#         ds_end = ds_end.isel(lev_partial=0)\n",
    "    if 'olevel' in ds.coords:\n",
    "        ds = ds.isel(olevel=0)\n",
    "#         ds_end = ds_end.isel(olevel=0)\n",
    "    if 'lev' in ds.coords:\n",
    "        ds = ds.isel(lev=0)\n",
    "#         ds_end = ds_end.isel(lev=0)\n",
    "\n",
    "    \n",
    "#     ds_diff = np.subtract(ds, ds_end)     \n",
    "    dsr = xe.Regridder(ds, ds_out, 'bilinear', periodic=True, ignore_degenerate=True)\n",
    "        \n",
    "        \n",
    "    dsr._grid_in = None\n",
    "    dsr._grid_out = None\n",
    "    dsr_out = dsr(ds)\n",
    "#     dsr_out_end = dsr(ds_end)\n",
    "#     dsr_out_diff = dsr(ds_diff)\n",
    "\n",
    "#     dsr.clean_weight_file() # comented, coz regridder has no attribute clean_weight_file()  I guess, coz we do not reuse the weights anywah\n",
    "# checked by running dsr\n",
    "    \n",
    "    \n",
    "                \n",
    "    regrids1.append(dsr_out)  # appends a model to a set\n",
    "#     regrids2.append(dsr_out_end)\n",
    "#     regrids3.append(dsr_out_diff)\n",
    "    \n",
    "#regrid_dic = {key:value for key, value in zip(new_models, regrids1,regrids2,regrids3)}\n"
   ]
  },
  {
   "cell_type": "code",
   "execution_count": 26,
   "metadata": {},
   "outputs": [
    {
     "data": {
      "text/plain": [
       "18"
      ]
     },
     "execution_count": 26,
     "metadata": {},
     "output_type": "execute_result"
    }
   ],
   "source": [
    "len(models)"
   ]
  },
  {
   "cell_type": "code",
   "execution_count": 27,
   "metadata": {},
   "outputs": [
    {
     "name": "stdout",
     "output_type": "stream",
     "text": [
      "[[nan nan nan ... nan nan nan]\n",
      " [nan nan nan ... nan nan nan]\n",
      " [nan nan nan ... nan nan nan]\n",
      " ...\n",
      " [nan nan nan ... nan nan nan]\n",
      " [nan nan nan ... nan nan nan]\n",
      " [nan nan nan ... nan nan nan]]\n"
     ]
    },
    {
     "name": "stderr",
     "output_type": "stream",
     "text": [
      "/srv/conda/envs/notebook/lib/python3.8/site-packages/dask/array/numpy_compat.py:40: RuntimeWarning: invalid value encountered in true_divide\n",
      "  x = np.divide(x1, x2, out)\n"
     ]
    }
   ],
   "source": [
    "# checks if the value in the ds is realistic\n",
    "a = ds.values\n",
    "np.nanmax(a)\n",
    "print(a)"
   ]
  },
  {
   "cell_type": "code",
   "execution_count": 28,
   "metadata": {},
   "outputs": [
    {
     "data": {
      "text/plain": [
       "xESMF Regridder \n",
       "Regridding algorithm:       bilinear \n",
       "Weight filename:            bilinear_292x362_181x361_peri.nc \n",
       "Reuse pre-computed weights? False \n",
       "Input grid shape:           (292, 362) \n",
       "Output grid shape:          (181, 361) \n",
       "Periodic in longitude?      True"
      ]
     },
     "execution_count": 28,
     "metadata": {},
     "output_type": "execute_result"
    }
   ],
   "source": [
    "# checks if dsr has the right size\n",
    "dsr"
   ]
  },
  {
   "cell_type": "code",
   "execution_count": 29,
   "metadata": {},
   "outputs": [
    {
     "name": "stdout",
     "output_type": "stream",
     "text": [
      "[<xarray.DataArray 'tos' (lat: 181, lon: 361)>\n",
      "dask.array<transpose, shape=(181, 361), dtype=float64, chunksize=(181, 361), chunktype=numpy.ndarray>\n",
      "Coordinates:\n",
      "  * lon      (lon) float64 0.0 1.0 2.0 3.0 4.0 ... 356.0 357.0 358.0 359.0 360.0\n",
      "  * lat      (lat) float64 -90.0 -89.0 -88.0 -87.0 -86.0 ... 87.0 88.0 89.0 90.0\n",
      "Attributes:\n",
      "    regrid_method:  bilinear, <xarray.DataArray 'tos' (lat: 181, lon: 361)>\n",
      "dask.array<transpose, shape=(181, 361), dtype=float64, chunksize=(181, 361), chunktype=numpy.ndarray>\n",
      "Coordinates:\n",
      "  * lon      (lon) float64 0.0 1.0 2.0 3.0 4.0 ... 356.0 357.0 358.0 359.0 360.0\n",
      "  * lat      (lat) float64 -90.0 -89.0 -88.0 -87.0 -86.0 ... 87.0 88.0 89.0 90.0\n",
      "Attributes:\n",
      "    regrid_method:  bilinear, <xarray.DataArray 'tos' (lat: 181, lon: 361)>\n",
      "dask.array<transpose, shape=(181, 361), dtype=float64, chunksize=(181, 361), chunktype=numpy.ndarray>\n",
      "Coordinates:\n",
      "  * lon      (lon) float64 0.0 1.0 2.0 3.0 4.0 ... 356.0 357.0 358.0 359.0 360.0\n",
      "  * lat      (lat) float64 -90.0 -89.0 -88.0 -87.0 -86.0 ... 87.0 88.0 89.0 90.0\n",
      "Attributes:\n",
      "    regrid_method:  bilinear, <xarray.DataArray 'tos' (lat: 181, lon: 361)>\n",
      "dask.array<transpose, shape=(181, 361), dtype=float64, chunksize=(181, 361), chunktype=numpy.ndarray>\n",
      "Coordinates:\n",
      "  * lon      (lon) float64 0.0 1.0 2.0 3.0 4.0 ... 356.0 357.0 358.0 359.0 360.0\n",
      "  * lat      (lat) float64 -90.0 -89.0 -88.0 -87.0 -86.0 ... 87.0 88.0 89.0 90.0\n",
      "Attributes:\n",
      "    regrid_method:  bilinear, <xarray.DataArray 'tos' (lat: 181, lon: 361)>\n",
      "dask.array<transpose, shape=(181, 361), dtype=float64, chunksize=(181, 361), chunktype=numpy.ndarray>\n",
      "Coordinates:\n",
      "  * lon      (lon) float64 0.0 1.0 2.0 3.0 4.0 ... 356.0 357.0 358.0 359.0 360.0\n",
      "  * lat      (lat) float64 -90.0 -89.0 -88.0 -87.0 -86.0 ... 87.0 88.0 89.0 90.0\n",
      "Attributes:\n",
      "    regrid_method:  bilinear, <xarray.DataArray 'tos' (lat: 181, lon: 361)>\n",
      "dask.array<transpose, shape=(181, 361), dtype=float64, chunksize=(181, 361), chunktype=numpy.ndarray>\n",
      "Coordinates:\n",
      "  * lon      (lon) float64 0.0 1.0 2.0 3.0 4.0 ... 356.0 357.0 358.0 359.0 360.0\n",
      "  * lat      (lat) float64 -90.0 -89.0 -88.0 -87.0 -86.0 ... 87.0 88.0 89.0 90.0\n",
      "Attributes:\n",
      "    regrid_method:  bilinear, <xarray.DataArray 'tos' (lat: 181, lon: 361)>\n",
      "dask.array<transpose, shape=(181, 361), dtype=float64, chunksize=(181, 361), chunktype=numpy.ndarray>\n",
      "Coordinates:\n",
      "  * lon      (lon) float64 0.0 1.0 2.0 3.0 4.0 ... 356.0 357.0 358.0 359.0 360.0\n",
      "  * lat      (lat) float64 -90.0 -89.0 -88.0 -87.0 -86.0 ... 87.0 88.0 89.0 90.0\n",
      "Attributes:\n",
      "    regrid_method:  bilinear, <xarray.DataArray 'tos' (lat: 181, lon: 361)>\n",
      "dask.array<transpose, shape=(181, 361), dtype=float64, chunksize=(181, 361), chunktype=numpy.ndarray>\n",
      "Coordinates:\n",
      "  * lon      (lon) float64 0.0 1.0 2.0 3.0 4.0 ... 356.0 357.0 358.0 359.0 360.0\n",
      "  * lat      (lat) float64 -90.0 -89.0 -88.0 -87.0 -86.0 ... 87.0 88.0 89.0 90.0\n",
      "Attributes:\n",
      "    regrid_method:  bilinear, <xarray.DataArray 'tos' (lat: 181, lon: 361)>\n",
      "dask.array<transpose, shape=(181, 361), dtype=float64, chunksize=(181, 361), chunktype=numpy.ndarray>\n",
      "Coordinates:\n",
      "  * lon      (lon) float64 0.0 1.0 2.0 3.0 4.0 ... 356.0 357.0 358.0 359.0 360.0\n",
      "  * lat      (lat) float64 -90.0 -89.0 -88.0 -87.0 -86.0 ... 87.0 88.0 89.0 90.0\n",
      "Attributes:\n",
      "    regrid_method:  bilinear, <xarray.DataArray 'tos' (lat: 181, lon: 361)>\n",
      "dask.array<transpose, shape=(181, 361), dtype=float64, chunksize=(181, 361), chunktype=numpy.ndarray>\n",
      "Coordinates:\n",
      "  * lon      (lon) float64 0.0 1.0 2.0 3.0 4.0 ... 356.0 357.0 358.0 359.0 360.0\n",
      "  * lat      (lat) float64 -90.0 -89.0 -88.0 -87.0 -86.0 ... 87.0 88.0 89.0 90.0\n",
      "Attributes:\n",
      "    regrid_method:  bilinear, <xarray.DataArray 'tos' (lat: 181, lon: 361)>\n",
      "dask.array<transpose, shape=(181, 361), dtype=float64, chunksize=(181, 361), chunktype=numpy.ndarray>\n",
      "Coordinates:\n",
      "  * lon      (lon) float64 0.0 1.0 2.0 3.0 4.0 ... 356.0 357.0 358.0 359.0 360.0\n",
      "  * lat      (lat) float64 -90.0 -89.0 -88.0 -87.0 -86.0 ... 87.0 88.0 89.0 90.0\n",
      "Attributes:\n",
      "    regrid_method:  bilinear, <xarray.DataArray 'tos' (lat: 181, lon: 361)>\n",
      "dask.array<transpose, shape=(181, 361), dtype=float64, chunksize=(181, 361), chunktype=numpy.ndarray>\n",
      "Coordinates:\n",
      "  * lon      (lon) float64 0.0 1.0 2.0 3.0 4.0 ... 356.0 357.0 358.0 359.0 360.0\n",
      "  * lat      (lat) float64 -90.0 -89.0 -88.0 -87.0 -86.0 ... 87.0 88.0 89.0 90.0\n",
      "Attributes:\n",
      "    regrid_method:  bilinear, <xarray.DataArray 'tos' (lat: 181, lon: 361)>\n",
      "dask.array<transpose, shape=(181, 361), dtype=float64, chunksize=(181, 361), chunktype=numpy.ndarray>\n",
      "Coordinates:\n",
      "  * lon      (lon) float64 0.0 1.0 2.0 3.0 4.0 ... 356.0 357.0 358.0 359.0 360.0\n",
      "  * lat      (lat) float64 -90.0 -89.0 -88.0 -87.0 -86.0 ... 87.0 88.0 89.0 90.0\n",
      "Attributes:\n",
      "    regrid_method:  bilinear, <xarray.DataArray 'tos' (lat: 181, lon: 361)>\n",
      "dask.array<transpose, shape=(181, 361), dtype=float64, chunksize=(181, 361), chunktype=numpy.ndarray>\n",
      "Coordinates:\n",
      "  * lon      (lon) float64 0.0 1.0 2.0 3.0 4.0 ... 356.0 357.0 358.0 359.0 360.0\n",
      "  * lat      (lat) float64 -90.0 -89.0 -88.0 -87.0 -86.0 ... 87.0 88.0 89.0 90.0\n",
      "Attributes:\n",
      "    regrid_method:  bilinear, <xarray.DataArray 'tos' (lat: 181, lon: 361)>\n",
      "dask.array<transpose, shape=(181, 361), dtype=float64, chunksize=(181, 361), chunktype=numpy.ndarray>\n",
      "Coordinates:\n",
      "  * lon      (lon) float64 0.0 1.0 2.0 3.0 4.0 ... 356.0 357.0 358.0 359.0 360.0\n",
      "  * lat      (lat) float64 -90.0 -89.0 -88.0 -87.0 -86.0 ... 87.0 88.0 89.0 90.0\n",
      "Attributes:\n",
      "    regrid_method:  bilinear, <xarray.DataArray 'tos' (lat: 181, lon: 361)>\n",
      "dask.array<transpose, shape=(181, 361), dtype=float64, chunksize=(181, 361), chunktype=numpy.ndarray>\n",
      "Coordinates:\n",
      "  * lon      (lon) float64 0.0 1.0 2.0 3.0 4.0 ... 356.0 357.0 358.0 359.0 360.0\n",
      "  * lat      (lat) float64 -90.0 -89.0 -88.0 -87.0 -86.0 ... 87.0 88.0 89.0 90.0\n",
      "Attributes:\n",
      "    regrid_method:  bilinear]\n"
     ]
    }
   ],
   "source": [
    "# shows what data is in regrids1 after regridding\n",
    "print(regrids1)"
   ]
  },
  {
   "cell_type": "markdown",
   "metadata": {},
   "source": [
    "## Regridding\n",
    "\n",
    "Behzad's code for regridding:\n",
    "\n",
    "nearest from scipy.interpolate.datagrid\n",
    "https://docs.scipy.org/doc/scipy/reference/generated/scipy.interpolate.griddata.html\n",
    "\n",
    "Here we use xesmf\n",
    "https://xesmf.readthedocs.io/en/latest/notebooks/Compare_algorithms.html\n"
   ]
  },
  {
   "cell_type": "markdown",
   "metadata": {},
   "source": [
    "    regredding"
   ]
  },
  {
   "cell_type": "code",
   "execution_count": 30,
   "metadata": {},
   "outputs": [],
   "source": [
    "# aranges the model data in to a dictionary\n",
    "regrid_dic1 = {key:value for key, value in zip(new_models, regrids1)} # start of the priod\n",
    "# regrid_dic_max = {key:value for key, value in zip(new_models, regrids1_max)} # start of the priod\n",
    "# regrid_dic_min = {key:value for key, value in zip(new_models, regrids1_min)} # start of the priod\n",
    "# regrid_dic2 = {key:value for key, value in zip(new_models, regrids2)} # end of the priod\n",
    "# regrid_dic3 = {key:value for key, value in zip(new_models, regrids3)} # difference for the priod"
   ]
  },
  {
   "cell_type": "code",
   "execution_count": 31,
   "metadata": {},
   "outputs": [],
   "source": [
    "# enables libraries for plotting\n",
    "from mpl_toolkits.axes_grid1 import AxesGrid\n",
    "from cartopy.mpl.geoaxes import GeoAxes\n",
    "import matplotlib.ticker as mticker\n",
    "from cartopy.mpl.gridliner import LONGITUDE_FORMATTER, LATITUDE_FORMATTER\n",
    "from cartopy.mpl.ticker import LongitudeFormatter, LatitudeFormatter\n",
    "# import cartopy.crs as ccrs\n"
   ]
  },
  {
   "cell_type": "code",
   "execution_count": 32,
   "metadata": {},
   "outputs": [
    {
     "name": "stderr",
     "output_type": "stream",
     "text": [
      "/srv/conda/envs/notebook/lib/python3.8/site-packages/dask/array/numpy_compat.py:40: RuntimeWarning: invalid value encountered in true_divide\n",
      "  x = np.divide(x1, x2, out)\n"
     ]
    },
    {
     "name": "stdout",
     "output_type": "stream",
     "text": [
      "31.424420552377153\n"
     ]
    },
    {
     "name": "stderr",
     "output_type": "stream",
     "text": [
      "/srv/conda/envs/notebook/lib/python3.8/site-packages/dask/array/numpy_compat.py:40: RuntimeWarning: invalid value encountered in true_divide\n",
      "  x = np.divide(x1, x2, out)\n",
      "/srv/conda/envs/notebook/lib/python3.8/site-packages/dask/array/numpy_compat.py:40: RuntimeWarning: invalid value encountered in true_divide\n",
      "  x = np.divide(x1, x2, out)\n",
      "/srv/conda/envs/notebook/lib/python3.8/site-packages/dask/array/numpy_compat.py:40: RuntimeWarning: invalid value encountered in true_divide\n",
      "  x = np.divide(x1, x2, out)\n",
      "/srv/conda/envs/notebook/lib/python3.8/site-packages/dask/array/numpy_compat.py:40: RuntimeWarning: invalid value encountered in true_divide\n",
      "  x = np.divide(x1, x2, out)\n",
      "/srv/conda/envs/notebook/lib/python3.8/site-packages/dask/array/numpy_compat.py:40: RuntimeWarning: invalid value encountered in true_divide\n",
      "  x = np.divide(x1, x2, out)\n",
      "/srv/conda/envs/notebook/lib/python3.8/site-packages/dask/array/numpy_compat.py:40: RuntimeWarning: invalid value encountered in true_divide\n",
      "  x = np.divide(x1, x2, out)\n",
      "/srv/conda/envs/notebook/lib/python3.8/site-packages/dask/array/numpy_compat.py:40: RuntimeWarning: invalid value encountered in true_divide\n",
      "  x = np.divide(x1, x2, out)\n",
      "/srv/conda/envs/notebook/lib/python3.8/site-packages/dask/array/numpy_compat.py:40: RuntimeWarning: invalid value encountered in true_divide\n",
      "  x = np.divide(x1, x2, out)\n",
      "/srv/conda/envs/notebook/lib/python3.8/site-packages/dask/array/numpy_compat.py:40: RuntimeWarning: invalid value encountered in true_divide\n",
      "  x = np.divide(x1, x2, out)\n",
      "/srv/conda/envs/notebook/lib/python3.8/site-packages/dask/array/numpy_compat.py:40: RuntimeWarning: invalid value encountered in true_divide\n",
      "  x = np.divide(x1, x2, out)\n",
      "/srv/conda/envs/notebook/lib/python3.8/site-packages/dask/array/numpy_compat.py:40: RuntimeWarning: invalid value encountered in true_divide\n",
      "  x = np.divide(x1, x2, out)\n",
      "/srv/conda/envs/notebook/lib/python3.8/site-packages/dask/array/numpy_compat.py:40: RuntimeWarning: invalid value encountered in true_divide\n",
      "  x = np.divide(x1, x2, out)\n",
      "/srv/conda/envs/notebook/lib/python3.8/site-packages/dask/array/numpy_compat.py:40: RuntimeWarning: invalid value encountered in true_divide\n",
      "  x = np.divide(x1, x2, out)\n",
      "/srv/conda/envs/notebook/lib/python3.8/site-packages/dask/array/numpy_compat.py:40: RuntimeWarning: invalid value encountered in true_divide\n",
      "  x = np.divide(x1, x2, out)\n",
      "/srv/conda/envs/notebook/lib/python3.8/site-packages/dask/array/numpy_compat.py:40: RuntimeWarning: invalid value encountered in true_divide\n",
      "  x = np.divide(x1, x2, out)\n",
      "/srv/conda/envs/notebook/lib/python3.8/site-packages/dask/array/numpy_compat.py:40: RuntimeWarning: invalid value encountered in true_divide\n",
      "  x = np.divide(x1, x2, out)\n",
      "/srv/conda/envs/notebook/lib/python3.8/site-packages/dask/array/numpy_compat.py:40: RuntimeWarning: invalid value encountered in true_divide\n",
      "  x = np.divide(x1, x2, out)\n",
      "/srv/conda/envs/notebook/lib/python3.8/site-packages/dask/array/numpy_compat.py:40: RuntimeWarning: invalid value encountered in true_divide\n",
      "  x = np.divide(x1, x2, out)\n",
      "/srv/conda/envs/notebook/lib/python3.8/site-packages/dask/array/numpy_compat.py:40: RuntimeWarning: invalid value encountered in true_divide\n",
      "  x = np.divide(x1, x2, out)\n",
      "/srv/conda/envs/notebook/lib/python3.8/site-packages/dask/array/numpy_compat.py:40: RuntimeWarning: invalid value encountered in true_divide\n",
      "  x = np.divide(x1, x2, out)\n",
      "/srv/conda/envs/notebook/lib/python3.8/site-packages/dask/array/numpy_compat.py:40: RuntimeWarning: invalid value encountered in true_divide\n",
      "  x = np.divide(x1, x2, out)\n",
      "/srv/conda/envs/notebook/lib/python3.8/site-packages/dask/array/numpy_compat.py:40: RuntimeWarning: invalid value encountered in true_divide\n",
      "  x = np.divide(x1, x2, out)\n",
      "/srv/conda/envs/notebook/lib/python3.8/site-packages/dask/array/numpy_compat.py:40: RuntimeWarning: invalid value encountered in true_divide\n",
      "  x = np.divide(x1, x2, out)\n",
      "/srv/conda/envs/notebook/lib/python3.8/site-packages/dask/array/numpy_compat.py:40: RuntimeWarning: invalid value encountered in true_divide\n",
      "  x = np.divide(x1, x2, out)\n",
      "/srv/conda/envs/notebook/lib/python3.8/site-packages/dask/array/numpy_compat.py:40: RuntimeWarning: invalid value encountered in true_divide\n",
      "  x = np.divide(x1, x2, out)\n",
      "/srv/conda/envs/notebook/lib/python3.8/site-packages/dask/array/numpy_compat.py:40: RuntimeWarning: invalid value encountered in true_divide\n",
      "  x = np.divide(x1, x2, out)\n",
      "/srv/conda/envs/notebook/lib/python3.8/site-packages/dask/array/numpy_compat.py:40: RuntimeWarning: invalid value encountered in true_divide\n",
      "  x = np.divide(x1, x2, out)\n",
      "/srv/conda/envs/notebook/lib/python3.8/site-packages/dask/array/numpy_compat.py:40: RuntimeWarning: invalid value encountered in true_divide\n",
      "  x = np.divide(x1, x2, out)\n",
      "/srv/conda/envs/notebook/lib/python3.8/site-packages/dask/array/numpy_compat.py:40: RuntimeWarning: invalid value encountered in true_divide\n",
      "  x = np.divide(x1, x2, out)\n",
      "/srv/conda/envs/notebook/lib/python3.8/site-packages/dask/array/numpy_compat.py:40: RuntimeWarning: invalid value encountered in true_divide\n",
      "  x = np.divide(x1, x2, out)\n",
      "/srv/conda/envs/notebook/lib/python3.8/site-packages/dask/array/numpy_compat.py:40: RuntimeWarning: invalid value encountered in true_divide\n",
      "  x = np.divide(x1, x2, out)\n",
      "/srv/conda/envs/notebook/lib/python3.8/site-packages/dask/array/numpy_compat.py:40: RuntimeWarning: invalid value encountered in true_divide\n",
      "  x = np.divide(x1, x2, out)\n",
      "/srv/conda/envs/notebook/lib/python3.8/site-packages/dask/array/numpy_compat.py:40: RuntimeWarning: invalid value encountered in true_divide\n",
      "  x = np.divide(x1, x2, out)\n",
      "/srv/conda/envs/notebook/lib/python3.8/site-packages/dask/array/numpy_compat.py:40: RuntimeWarning: invalid value encountered in true_divide\n",
      "  x = np.divide(x1, x2, out)\n"
     ]
    }
   ],
   "source": [
    "n=60\n",
    "\n",
    "maxval = np.amax(regrid_dic1['CESM2'])\n",
    "minval = np.amin(regrid_dic1['CESM2'])\n",
    "\n",
    "print(maxval.values)\n",
    "\n",
    "for model in new_models:\n",
    "    \n",
    "    temparray = regrid_dic1[model]\n",
    "    \n",
    "    maxval = max(maxval, np.amax(temparray))\n",
    "    minval = min(minval, np.amin(temparray))\n",
    "    \n",
    "\n",
    "    \n",
    "levels = np.linspace(minval, maxval, n+1)\n"
   ]
  },
  {
   "cell_type": "code",
   "execution_count": 33,
   "metadata": {},
   "outputs": [
    {
     "name": "stderr",
     "output_type": "stream",
     "text": [
      "/srv/conda/envs/notebook/lib/python3.8/site-packages/dask/array/numpy_compat.py:40: RuntimeWarning: invalid value encountered in true_divide\n",
      "  x = np.divide(x1, x2, out)\n"
     ]
    },
    {
     "data": {
      "text/plain": [
       "array([[nan, nan, nan, ..., nan, nan, nan],\n",
       "       [nan, nan, nan, ..., nan, nan, nan],\n",
       "       [nan, nan, nan, ..., nan, nan, nan],\n",
       "       ...,\n",
       "       [nan, nan, nan, ..., nan, nan, nan],\n",
       "       [nan, nan, nan, ..., nan, nan, nan],\n",
       "       [nan, nan, nan, ..., nan, nan, nan]], dtype=float32)"
      ]
     },
     "execution_count": 33,
     "metadata": {},
     "output_type": "execute_result"
    }
   ],
   "source": [
    "ds.values"
   ]
  },
  {
   "cell_type": "code",
   "execution_count": null,
   "metadata": {},
   "outputs": [],
   "source": []
  },
  {
   "cell_type": "code",
   "execution_count": 34,
   "metadata": {},
   "outputs": [
    {
     "ename": "SyntaxError",
     "evalue": "invalid syntax (<unknown>, line 92)",
     "output_type": "error",
     "traceback": [
      "Traceback \u001b[0;36m(most recent call last)\u001b[0m:\n",
      "  File \u001b[1;32m\"/srv/conda/envs/notebook/lib/python3.8/site-packages/IPython/core/interactiveshell.py\"\u001b[0m, line \u001b[1;32m3427\u001b[0m, in \u001b[1;35mrun_code\u001b[0m\n    exec(code_obj, self.user_global_ns, self.user_ns)\n",
      "  File \u001b[1;32m\"<ipython-input-34-49af2f8bb782>\"\u001b[0m, line \u001b[1;32m1\u001b[0m, in \u001b[1;35m<module>\u001b[0m\n    get_ipython().run_cell_magic('time', '', '\\n\\n\\nfig = plt.figure(figsize=(24, 14))\\n\\nn_c = 4\\nn_r = 4\\nn_t=len(new_models)\\n\\n\\nprojection = ccrs.PlateCarree(central_longitude=180)\\naxes_class = (GeoAxes,dict(map_projection=projection))\\naxgr = AxesGrid(fig, 111, axes_class=axes_class, nrows_ncols=(n_r, n_c),\\n                    axes_pad=0.6,\\n                    cbar_location=\\'right\\',\\n                    cbar_mode=\\'single\\',\\n                    cbar_pad=0.2,\\n                    cbar_size=\\'3%\\',\\n                    share_all = False,\\n                    label_mode=\\'\\')  # note the empty label_mode\\n\\n#projection = ccrs.PlateCarree(central_longitude=180)\\n# levels = np.linspace(-0.001, 0.005, 0.02)\\n# levels = np.logspace(-0.001, 0.006, 0.02)\\n# plot_ranges \\n# vmin = -0.003\\n# vmax = 0.003\\n\\nvmin = 0\\nvmax = 100\\nn=60\\n\\n# levels = np.logspace(vmin, vmax, n+1,base=10.0)\\n# levels = np.logspace(vmin, vmax, n+1) # for differences\\ncmap = mpl.cm.jet\\ni = 0\\nA = 2  # A=2 - use data \"as is\", A\\nfor model in new_models:\\n    print(model)   \\n#     if isinstance(xray2_dic[model], list):  #saved this line to not forget it had to be there in other cases\\n    if A == 3:\\n        continue # here there might be some condition, for example a scale factor for units conversion\\n    else:\\n#         s = regrid_dic_max[model]*12 ## Whatch out for units. mmolC -> mgC = 12; \\n        s = regrid_dic1[model]\\n#         s = s * 12000 # Change value here * 12 to get miligrams/m3 from mol/m3. \\n\\n        \\n        ax = list(axgr)[i]\\n        i = i + 1\\n#        # Change Value here for levels or var or transform\\n        p = ax.contourf(regrid_dic1[model].lon, regrid_dic1[model].lat, s,levels=levels, cmap = cmap, transform=ccrs.PlateCarree(), extend=\\'both\\')   # Change Value here\\n        ax.coastlines()\\n        ax.set_title(str(model),fontsize= 20)\\n    #https://stackoverflow.com/questions/49956355/adding-gridlines-using-cartopy\\n        gl = ax.gridlines(crs=projection, alpha=0, draw_labels=True)\\n#         gl.xlabels_top = False\\n        gl.top_labels = False\\n        gl.xlocator = mticker.FixedLocator([ 90, 0, -90, -180])\\n        gl.ylocator = mticker.FixedLocator([-90, -60, -30, 0, 30, 60, 90])\\n        gl.xformatter = LONGITUDE_FORMATTER\\n        gl.yformatter = LATITUDE_FORMATTER\\n        \\n        if i-1 == (n_c*(n_r-1)): # Adds longitude ranges only to the last subplots that appear at the bottom of plot\\n#             gl.ylabels_left = True\\n            gl.left_labels = True\\n            gl.right_labels=False\\n            gl.ylabel_style = {\\'size\\': 16} # labels = [left,right,top,bottom] # Longitudes\\n            gl.xlines = True\\n            gl.xlabel_style = {\\'size\\': 16}\\n        elif i-1==0 or i-1==n_c or i-1==n_c*2 or i-1==n_c*3 or i-1==n_c*4 or i-1==n_c*5 or i-1==n_c*6 or i-1==n_c*7 or i-1==n_c*8:\\n            gl.left_labels = True\\n            gl.right_labels=False\\n            gl.ylabel_style = {\\'size\\': 16} #\\n            gl.bottom_labels = False\\n        elif i-1 >= n_t-n_c and i-1 != (n_c*(n_r-1)): # Adds longitude ranges only to the last subplots that appear at the bottom of plot\\n            gl.left_labels = False\\n            gl.right_labels=False\\n            gl.xlines = False\\n            gl.xlabel_style = {\\'size\\': 16}\\n        else:\\n            gl.left_labels = False\\n            gl.right_labels=False\\n            gl.ylabel_style = {\\'size\\': 16} #\\n            gl.bottom_labels = False\\n            gl.xlines = False\\n            if i>n_t:\\n                plt.close(i)\\n#        \\n\\nlevels = np.linspace(minval, maxval, n+1)\\n\\n\\n# plt.suptitle(\\'Average 1995 - 2014, Mole Concentration of Biomass of phytoplankton [mol m-3]\\', fontsize=20)  # Change Value here\\nplt.suptitle(var+\\' \\'+start_time\\'-\\'+end_time\\', Average 5yr Concentration of Biomass of \\'+var+\\' [mgC m-3]\\', fontsize=20)\\n# cb = axgr.cbar_axes[0].colorbar(p)\\n\\ncb = mpl.colorbar.ColorbarBase(axgr.cbar_axes[0], cmap = cmap, boundaries = levels, extend=\\'both\\')\\n# cb = mpl.colorbar.ColorbarBase(axgr.cbar_axes[0], cmap = cmap,  extend=\\'both\\')\\ncb.ax.tick_params(labelsize=16)\\n\\n\\n# plt.savefig(\\'/home/jovyan/CMIP6-Codes/AGU_fall_pics/phyc_2003_2007.tiff\\', dpi=600,format=\\'tiff\\')   # Change Value here\\nplt.savefig(\\'/home/jovyan/quickplots/\\'+var+\\'_\\'start_time\\'_\\'+end_time\\'_Mean.png\\', dpi=600,format=\\'png\\')   # Change Value here\\n# model order\\n')\n",
      "  File \u001b[1;32m\"/srv/conda/envs/notebook/lib/python3.8/site-packages/IPython/core/interactiveshell.py\"\u001b[0m, line \u001b[1;32m2391\u001b[0m, in \u001b[1;35mrun_cell_magic\u001b[0m\n    result = fn(*args, **kwargs)\n",
      "  File \u001b[1;32m\"<decorator-gen-54>\"\u001b[0m, line \u001b[1;32m2\u001b[0m, in \u001b[1;35mtime\u001b[0m\n",
      "  File \u001b[1;32m\"/srv/conda/envs/notebook/lib/python3.8/site-packages/IPython/core/magic.py\"\u001b[0m, line \u001b[1;32m187\u001b[0m, in \u001b[1;35m<lambda>\u001b[0m\n    call = lambda f, *a, **k: f(*a, **k)\n",
      "  File \u001b[1;32m\"/srv/conda/envs/notebook/lib/python3.8/site-packages/IPython/core/magics/execution.py\"\u001b[0m, line \u001b[1;32m1277\u001b[0m, in \u001b[1;35mtime\u001b[0m\n    expr_ast = self.shell.compile.ast_parse(expr)\n",
      "\u001b[0;36m  File \u001b[0;32m\"/srv/conda/envs/notebook/lib/python3.8/site-packages/IPython/core/compilerop.py\"\u001b[0;36m, line \u001b[0;32m101\u001b[0;36m, in \u001b[0;35mast_parse\u001b[0;36m\u001b[0m\n\u001b[0;31m    return compile(source, filename, symbol, self.flags | PyCF_ONLY_AST, 1)\u001b[0m\n",
      "\u001b[0;36m  File \u001b[0;32m\"<unknown>\"\u001b[0;36m, line \u001b[0;32m92\u001b[0m\n\u001b[0;31m    plt.suptitle(var+' '+start_time'-'+end_time', Average 5yr Concentration of Biomass of '+var+' [mgC m-3]', fontsize=20)\u001b[0m\n\u001b[0m                                   ^\u001b[0m\n\u001b[0;31mSyntaxError\u001b[0m\u001b[0;31m:\u001b[0m invalid syntax\n"
     ]
    }
   ],
   "source": [
    "%%time\n",
    "\n",
    "\n",
    "\n",
    "fig = plt.figure(figsize=(24, 14))\n",
    "\n",
    "n_c = 4\n",
    "n_r = 4\n",
    "n_t=len(new_models)\n",
    "\n",
    "\n",
    "projection = ccrs.PlateCarree(central_longitude=180)\n",
    "axes_class = (GeoAxes,dict(map_projection=projection))\n",
    "axgr = AxesGrid(fig, 111, axes_class=axes_class, nrows_ncols=(n_r, n_c),\n",
    "                    axes_pad=0.6,\n",
    "                    cbar_location='right',\n",
    "                    cbar_mode='single',\n",
    "                    cbar_pad=0.2,\n",
    "                    cbar_size='3%',\n",
    "                    share_all = False,\n",
    "                    label_mode='')  # note the empty label_mode\n",
    "\n",
    "#projection = ccrs.PlateCarree(central_longitude=180)\n",
    "# levels = np.linspace(-0.001, 0.005, 0.02)\n",
    "# levels = np.logspace(-0.001, 0.006, 0.02)\n",
    "# plot_ranges \n",
    "# vmin = -0.003\n",
    "# vmax = 0.003\n",
    "\n",
    "vmin = 0\n",
    "vmax = 100\n",
    "n=60\n",
    "\n",
    "# levels = np.logspace(vmin, vmax, n+1,base=10.0)\n",
    "# levels = np.logspace(vmin, vmax, n+1) # for differences\n",
    "cmap = mpl.cm.jet\n",
    "i = 0\n",
    "A = 2  # A=2 - use data \"as is\", A\n",
    "for model in new_models:\n",
    "    print(model)   \n",
    "#     if isinstance(xray2_dic[model], list):  #saved this line to not forget it had to be there in other cases\n",
    "    if A == 3:\n",
    "        continue # here there might be some condition, for example a scale factor for units conversion\n",
    "    else:\n",
    "#         s = regrid_dic_max[model]*12 ## Whatch out for units. mmolC -> mgC = 12; \n",
    "        s = regrid_dic1[model]\n",
    "#         s = s * 12000 # Change value here * 12 to get miligrams/m3 from mol/m3. \n",
    "\n",
    "        \n",
    "        ax = list(axgr)[i]\n",
    "        i = i + 1\n",
    "#        # Change Value here for levels or var or transform\n",
    "        p = ax.contourf(regrid_dic1[model].lon, regrid_dic1[model].lat, s,levels=levels, cmap = cmap, transform=ccrs.PlateCarree(), extend='both')   # Change Value here\n",
    "        ax.coastlines()\n",
    "        ax.set_title(str(model),fontsize= 20)\n",
    "    #https://stackoverflow.com/questions/49956355/adding-gridlines-using-cartopy\n",
    "        gl = ax.gridlines(crs=projection, alpha=0, draw_labels=True)\n",
    "#         gl.xlabels_top = False\n",
    "        gl.top_labels = False\n",
    "        gl.xlocator = mticker.FixedLocator([ 90, 0, -90, -180])\n",
    "        gl.ylocator = mticker.FixedLocator([-90, -60, -30, 0, 30, 60, 90])\n",
    "        gl.xformatter = LONGITUDE_FORMATTER\n",
    "        gl.yformatter = LATITUDE_FORMATTER\n",
    "        \n",
    "        if i-1 == (n_c*(n_r-1)): # Adds longitude ranges only to the last subplots that appear at the bottom of plot\n",
    "#             gl.ylabels_left = True\n",
    "            gl.left_labels = True\n",
    "            gl.right_labels=False\n",
    "            gl.ylabel_style = {'size': 16} # labels = [left,right,top,bottom] # Longitudes\n",
    "            gl.xlines = True\n",
    "            gl.xlabel_style = {'size': 16}\n",
    "        elif i-1==0 or i-1==n_c or i-1==n_c*2 or i-1==n_c*3 or i-1==n_c*4 or i-1==n_c*5 or i-1==n_c*6 or i-1==n_c*7 or i-1==n_c*8:\n",
    "            gl.left_labels = True\n",
    "            gl.right_labels=False\n",
    "            gl.ylabel_style = {'size': 16} #\n",
    "            gl.bottom_labels = False\n",
    "        elif i-1 >= n_t-n_c and i-1 != (n_c*(n_r-1)): # Adds longitude ranges only to the last subplots that appear at the bottom of plot\n",
    "            gl.left_labels = False\n",
    "            gl.right_labels=False\n",
    "            gl.xlines = False\n",
    "            gl.xlabel_style = {'size': 16}\n",
    "        else:\n",
    "            gl.left_labels = False\n",
    "            gl.right_labels=False\n",
    "            gl.ylabel_style = {'size': 16} #\n",
    "            gl.bottom_labels = False\n",
    "            gl.xlines = False\n",
    "            if i>n_t:\n",
    "                plt.close(i)\n",
    "#        \n",
    "\n",
    "levels = np.linspace(minval, maxval, n+1)\n",
    "\n",
    "\n",
    "# plt.suptitle('Average 1995 - 2014, Mole Concentration of Biomass of phytoplankton [mol m-3]', fontsize=20)  # Change Value here\n",
    "plt.suptitle(var+' '+start_time'-'+end_time', Average 5yr Concentration of Biomass of '+var+' [mgC m-3]', fontsize=20)\n",
    "# cb = axgr.cbar_axes[0].colorbar(p)\n",
    "\n",
    "cb = mpl.colorbar.ColorbarBase(axgr.cbar_axes[0], cmap = cmap, boundaries = levels, extend='both')\n",
    "# cb = mpl.colorbar.ColorbarBase(axgr.cbar_axes[0], cmap = cmap,  extend='both')\n",
    "cb.ax.tick_params(labelsize=16)\n",
    "\n",
    "\n",
    "# plt.savefig('/home/jovyan/CMIP6-Codes/AGU_fall_pics/phyc_2003_2007.tiff', dpi=600,format='tiff')   # Change Value here\n",
    "plt.savefig('/home/jovyan/quickplots/'+var+'_'start_time'_'+end_time'_Mean.png', dpi=600,format='png')   # Change Value here\n",
    "# model order\n"
   ]
  },
  {
   "cell_type": "markdown",
   "metadata": {},
   "source": [
    "FOR SEASONALITY"
   ]
  },
  {
   "cell_type": "markdown",
   "metadata": {},
   "source": [
    "max-min\n",
    "amin The minimum value of an array along a given axis, propagating any NaNs.\n",
    "\n",
    "nanmax The maximum value of an array along a given axis, ignoring any NaNs.\n",
    "\n",
    "maximum Element-wise maximum of two arrays, propagating any NaNs.\n",
    "\n",
    "fmax Element-wise maximum of two arrays, ignoring any NaNs.\n",
    "\n",
    "argmax Return the indices of the maximum values."
   ]
  },
  {
   "cell_type": "code",
   "execution_count": null,
   "metadata": {},
   "outputs": [],
   "source": [
    " "
   ]
  },
  {
   "cell_type": "code",
   "execution_count": null,
   "metadata": {},
   "outputs": [],
   "source": []
  },
  {
   "cell_type": "code",
   "execution_count": 17,
   "metadata": {},
   "outputs": [
    {
     "name": "stdout",
     "output_type": "stream",
     "text": [
      "CESM2\n"
     ]
    },
    {
     "name": "stderr",
     "output_type": "stream",
     "text": [
      "/srv/conda/envs/notebook/lib/python3.8/site-packages/cf_xarray/accessor.py:1043: UserWarning: Variables {'lon_bnds'} not found in object but are referred to in the CF attributes.\n",
      "  warnings.warn(\n",
      "/srv/conda/envs/notebook/lib/python3.8/site-packages/cf_xarray/accessor.py:1043: UserWarning: Variables {'lat_bnds'} not found in object but are referred to in the CF attributes.\n",
      "  warnings.warn(\n",
      "/srv/conda/envs/notebook/lib/python3.8/site-packages/dask/array/core.py:381: FutureWarning: elementwise comparison failed; returning scalar instead, but in the future will perform elementwise comparison\n",
      "  o = func(*args, **kwargs)\n",
      "/srv/conda/envs/notebook/lib/python3.8/site-packages/xesmf/frontend.py:439: FutureWarning: ``output_sizes`` should be given in the ``dask_gufunc_kwargs`` parameter. It will be removed as direct parameter in a future version.\n",
      "  dr_out = xr.apply_ufunc(\n",
      "/srv/conda/envs/notebook/lib/python3.8/site-packages/cf_xarray/accessor.py:1043: UserWarning: Variables {'lon_bnds'} not found in object but are referred to in the CF attributes.\n",
      "  warnings.warn(\n",
      "/srv/conda/envs/notebook/lib/python3.8/site-packages/cf_xarray/accessor.py:1043: UserWarning: Variables {'lat_bnds'} not found in object but are referred to in the CF attributes.\n",
      "  warnings.warn(\n",
      "/srv/conda/envs/notebook/lib/python3.8/site-packages/dask/array/core.py:381: FutureWarning: elementwise comparison failed; returning scalar instead, but in the future will perform elementwise comparison\n",
      "  o = func(*args, **kwargs)\n"
     ]
    },
    {
     "name": "stdout",
     "output_type": "stream",
     "text": [
      "CESM2-WACCM\n"
     ]
    },
    {
     "name": "stderr",
     "output_type": "stream",
     "text": [
      "/srv/conda/envs/notebook/lib/python3.8/site-packages/xesmf/frontend.py:439: FutureWarning: ``output_sizes`` should be given in the ``dask_gufunc_kwargs`` parameter. It will be removed as direct parameter in a future version.\n",
      "  dr_out = xr.apply_ufunc(\n",
      "/srv/conda/envs/notebook/lib/python3.8/site-packages/cf_xarray/accessor.py:1043: UserWarning: Variables {'lon_bnds'} not found in object but are referred to in the CF attributes.\n",
      "  warnings.warn(\n",
      "/srv/conda/envs/notebook/lib/python3.8/site-packages/cf_xarray/accessor.py:1043: UserWarning: Variables {'lat_bnds'} not found in object but are referred to in the CF attributes.\n",
      "  warnings.warn(\n",
      "/srv/conda/envs/notebook/lib/python3.8/site-packages/dask/array/core.py:381: FutureWarning: elementwise comparison failed; returning scalar instead, but in the future will perform elementwise comparison\n",
      "  o = func(*args, **kwargs)\n"
     ]
    },
    {
     "name": "stdout",
     "output_type": "stream",
     "text": [
      "GFDL-CM4\n"
     ]
    },
    {
     "name": "stderr",
     "output_type": "stream",
     "text": [
      "/srv/conda/envs/notebook/lib/python3.8/site-packages/xesmf/frontend.py:439: FutureWarning: ``output_sizes`` should be given in the ``dask_gufunc_kwargs`` parameter. It will be removed as direct parameter in a future version.\n",
      "  dr_out = xr.apply_ufunc(\n",
      "/srv/conda/envs/notebook/lib/python3.8/site-packages/cf_xarray/accessor.py:1043: UserWarning: Variables {'lon_bnds'} not found in object but are referred to in the CF attributes.\n",
      "  warnings.warn(\n",
      "/srv/conda/envs/notebook/lib/python3.8/site-packages/cf_xarray/accessor.py:1043: UserWarning: Variables {'lat_bnds'} not found in object but are referred to in the CF attributes.\n",
      "  warnings.warn(\n",
      "/srv/conda/envs/notebook/lib/python3.8/site-packages/dask/array/core.py:381: FutureWarning: elementwise comparison failed; returning scalar instead, but in the future will perform elementwise comparison\n",
      "  o = func(*args, **kwargs)\n"
     ]
    },
    {
     "name": "stdout",
     "output_type": "stream",
     "text": [
      "GFDL-ESM4\n"
     ]
    },
    {
     "name": "stderr",
     "output_type": "stream",
     "text": [
      "/srv/conda/envs/notebook/lib/python3.8/site-packages/xesmf/frontend.py:439: FutureWarning: ``output_sizes`` should be given in the ``dask_gufunc_kwargs`` parameter. It will be removed as direct parameter in a future version.\n",
      "  dr_out = xr.apply_ufunc(\n",
      "/srv/conda/envs/notebook/lib/python3.8/site-packages/cf_xarray/accessor.py:1043: UserWarning: Variables {'bounds_nav_lon'} not found in object but are referred to in the CF attributes.\n",
      "  warnings.warn(\n",
      "/srv/conda/envs/notebook/lib/python3.8/site-packages/cf_xarray/accessor.py:1043: UserWarning: Variables {'bounds_nav_lat'} not found in object but are referred to in the CF attributes.\n",
      "  warnings.warn(\n",
      "/srv/conda/envs/notebook/lib/python3.8/site-packages/dask/array/core.py:381: FutureWarning: elementwise comparison failed; returning scalar instead, but in the future will perform elementwise comparison\n",
      "  o = func(*args, **kwargs)\n"
     ]
    },
    {
     "name": "stdout",
     "output_type": "stream",
     "text": [
      "IPSL-CM6A-LR\n"
     ]
    },
    {
     "name": "stderr",
     "output_type": "stream",
     "text": [
      "/srv/conda/envs/notebook/lib/python3.8/site-packages/xesmf/frontend.py:439: FutureWarning: ``output_sizes`` should be given in the ``dask_gufunc_kwargs`` parameter. It will be removed as direct parameter in a future version.\n",
      "  dr_out = xr.apply_ufunc(\n",
      "/srv/conda/envs/notebook/lib/python3.8/site-packages/cf_xarray/accessor.py:1043: UserWarning: Variables {'lon_bnds'} not found in object but are referred to in the CF attributes.\n",
      "  warnings.warn(\n",
      "/srv/conda/envs/notebook/lib/python3.8/site-packages/cf_xarray/accessor.py:1043: UserWarning: Variables {'lat_bnds'} not found in object but are referred to in the CF attributes.\n",
      "  warnings.warn(\n",
      "/srv/conda/envs/notebook/lib/python3.8/site-packages/dask/array/core.py:381: FutureWarning: elementwise comparison failed; returning scalar instead, but in the future will perform elementwise comparison\n",
      "  o = func(*args, **kwargs)\n"
     ]
    },
    {
     "name": "stdout",
     "output_type": "stream",
     "text": [
      "GISS-E2-1-G\n"
     ]
    },
    {
     "name": "stderr",
     "output_type": "stream",
     "text": [
      "/srv/conda/envs/notebook/lib/python3.8/site-packages/xesmf/frontend.py:439: FutureWarning: ``output_sizes`` should be given in the ``dask_gufunc_kwargs`` parameter. It will be removed as direct parameter in a future version.\n",
      "  dr_out = xr.apply_ufunc(\n",
      "/srv/conda/envs/notebook/lib/python3.8/site-packages/cf_xarray/accessor.py:1043: UserWarning: Variables {'lon_bnds'} not found in object but are referred to in the CF attributes.\n",
      "  warnings.warn(\n",
      "/srv/conda/envs/notebook/lib/python3.8/site-packages/cf_xarray/accessor.py:1043: UserWarning: Variables {'lat_bnds'} not found in object but are referred to in the CF attributes.\n",
      "  warnings.warn(\n",
      "/srv/conda/envs/notebook/lib/python3.8/site-packages/dask/array/core.py:381: FutureWarning: elementwise comparison failed; returning scalar instead, but in the future will perform elementwise comparison\n",
      "  o = func(*args, **kwargs)\n"
     ]
    },
    {
     "name": "stdout",
     "output_type": "stream",
     "text": [
      "GISS-E2-1-G-CC\n"
     ]
    },
    {
     "name": "stderr",
     "output_type": "stream",
     "text": [
      "/srv/conda/envs/notebook/lib/python3.8/site-packages/xesmf/frontend.py:439: FutureWarning: ``output_sizes`` should be given in the ``dask_gufunc_kwargs`` parameter. It will be removed as direct parameter in a future version.\n",
      "  dr_out = xr.apply_ufunc(\n",
      "/srv/conda/envs/notebook/lib/python3.8/site-packages/cf_xarray/accessor.py:1043: UserWarning: Variables {'x_bnds', 'y_bnds', 'vertices_longitude'} not found in object but are referred to in the CF attributes.\n",
      "  warnings.warn(\n",
      "/srv/conda/envs/notebook/lib/python3.8/site-packages/cf_xarray/accessor.py:1043: UserWarning: Variables {'x_bnds', 'y_bnds', 'vertices_latitude'} not found in object but are referred to in the CF attributes.\n",
      "  warnings.warn(\n",
      "/srv/conda/envs/notebook/lib/python3.8/site-packages/dask/array/core.py:381: FutureWarning: elementwise comparison failed; returning scalar instead, but in the future will perform elementwise comparison\n",
      "  o = func(*args, **kwargs)\n"
     ]
    },
    {
     "name": "stdout",
     "output_type": "stream",
     "text": [
      "MIROC-ES2L\n"
     ]
    },
    {
     "name": "stderr",
     "output_type": "stream",
     "text": [
      "/srv/conda/envs/notebook/lib/python3.8/site-packages/xesmf/frontend.py:439: FutureWarning: ``output_sizes`` should be given in the ``dask_gufunc_kwargs`` parameter. It will be removed as direct parameter in a future version.\n",
      "  dr_out = xr.apply_ufunc(\n",
      "/srv/conda/envs/notebook/lib/python3.8/site-packages/cf_xarray/accessor.py:1043: UserWarning: Variables {'vertices_longitude'} not found in object but are referred to in the CF attributes.\n",
      "  warnings.warn(\n",
      "/srv/conda/envs/notebook/lib/python3.8/site-packages/cf_xarray/accessor.py:1043: UserWarning: Variables {'vertices_latitude'} not found in object but are referred to in the CF attributes.\n",
      "  warnings.warn(\n",
      "/srv/conda/envs/notebook/lib/python3.8/site-packages/dask/array/core.py:381: FutureWarning: elementwise comparison failed; returning scalar instead, but in the future will perform elementwise comparison\n",
      "  o = func(*args, **kwargs)\n"
     ]
    },
    {
     "name": "stdout",
     "output_type": "stream",
     "text": [
      "NorCPM1\n"
     ]
    },
    {
     "name": "stderr",
     "output_type": "stream",
     "text": [
      "/srv/conda/envs/notebook/lib/python3.8/site-packages/xesmf/frontend.py:439: FutureWarning: ``output_sizes`` should be given in the ``dask_gufunc_kwargs`` parameter. It will be removed as direct parameter in a future version.\n",
      "  dr_out = xr.apply_ufunc(\n",
      "/srv/conda/envs/notebook/lib/python3.8/site-packages/cf_xarray/accessor.py:1043: UserWarning: Variables {'vertices_longitude'} not found in object but are referred to in the CF attributes.\n",
      "  warnings.warn(\n",
      "/srv/conda/envs/notebook/lib/python3.8/site-packages/cf_xarray/accessor.py:1043: UserWarning: Variables {'vertices_latitude'} not found in object but are referred to in the CF attributes.\n",
      "  warnings.warn(\n",
      "/srv/conda/envs/notebook/lib/python3.8/site-packages/dask/array/core.py:381: FutureWarning: elementwise comparison failed; returning scalar instead, but in the future will perform elementwise comparison\n",
      "  o = func(*args, **kwargs)\n"
     ]
    },
    {
     "name": "stdout",
     "output_type": "stream",
     "text": [
      "NorESM2-LM\n"
     ]
    },
    {
     "name": "stderr",
     "output_type": "stream",
     "text": [
      "/srv/conda/envs/notebook/lib/python3.8/site-packages/xesmf/frontend.py:439: FutureWarning: ``output_sizes`` should be given in the ``dask_gufunc_kwargs`` parameter. It will be removed as direct parameter in a future version.\n",
      "  dr_out = xr.apply_ufunc(\n",
      "/srv/conda/envs/notebook/lib/python3.8/site-packages/cf_xarray/accessor.py:1043: UserWarning: Variables {'vertices_longitude'} not found in object but are referred to in the CF attributes.\n",
      "  warnings.warn(\n",
      "/srv/conda/envs/notebook/lib/python3.8/site-packages/cf_xarray/accessor.py:1043: UserWarning: Variables {'vertices_latitude'} not found in object but are referred to in the CF attributes.\n",
      "  warnings.warn(\n",
      "/srv/conda/envs/notebook/lib/python3.8/site-packages/dask/array/core.py:381: FutureWarning: elementwise comparison failed; returning scalar instead, but in the future will perform elementwise comparison\n",
      "  o = func(*args, **kwargs)\n"
     ]
    },
    {
     "name": "stdout",
     "output_type": "stream",
     "text": [
      "MPI-ESM1-2-HR\n"
     ]
    },
    {
     "name": "stderr",
     "output_type": "stream",
     "text": [
      "/srv/conda/envs/notebook/lib/python3.8/site-packages/xesmf/frontend.py:439: FutureWarning: ``output_sizes`` should be given in the ``dask_gufunc_kwargs`` parameter. It will be removed as direct parameter in a future version.\n",
      "  dr_out = xr.apply_ufunc(\n",
      "/srv/conda/envs/notebook/lib/python3.8/site-packages/cf_xarray/accessor.py:1043: UserWarning: Variables {'vertices_longitude'} not found in object but are referred to in the CF attributes.\n",
      "  warnings.warn(\n",
      "/srv/conda/envs/notebook/lib/python3.8/site-packages/cf_xarray/accessor.py:1043: UserWarning: Variables {'vertices_latitude'} not found in object but are referred to in the CF attributes.\n",
      "  warnings.warn(\n",
      "/srv/conda/envs/notebook/lib/python3.8/site-packages/dask/array/core.py:381: FutureWarning: elementwise comparison failed; returning scalar instead, but in the future will perform elementwise comparison\n",
      "  o = func(*args, **kwargs)\n"
     ]
    },
    {
     "name": "stdout",
     "output_type": "stream",
     "text": [
      "ACCESS-ESM1-5\n"
     ]
    },
    {
     "name": "stderr",
     "output_type": "stream",
     "text": [
      "/srv/conda/envs/notebook/lib/python3.8/site-packages/xesmf/frontend.py:439: FutureWarning: ``output_sizes`` should be given in the ``dask_gufunc_kwargs`` parameter. It will be removed as direct parameter in a future version.\n",
      "  dr_out = xr.apply_ufunc(\n",
      "/srv/conda/envs/notebook/lib/python3.8/site-packages/cf_xarray/accessor.py:1043: UserWarning: Variables {'vertices_longitude'} not found in object but are referred to in the CF attributes.\n",
      "  warnings.warn(\n",
      "/srv/conda/envs/notebook/lib/python3.8/site-packages/cf_xarray/accessor.py:1043: UserWarning: Variables {'vertices_latitude'} not found in object but are referred to in the CF attributes.\n",
      "  warnings.warn(\n",
      "/srv/conda/envs/notebook/lib/python3.8/site-packages/dask/array/core.py:381: FutureWarning: elementwise comparison failed; returning scalar instead, but in the future will perform elementwise comparison\n",
      "  o = func(*args, **kwargs)\n"
     ]
    },
    {
     "name": "stdout",
     "output_type": "stream",
     "text": [
      "MPI-ESM1-2-LR\n"
     ]
    },
    {
     "name": "stderr",
     "output_type": "stream",
     "text": [
      "/srv/conda/envs/notebook/lib/python3.8/site-packages/xesmf/frontend.py:439: FutureWarning: ``output_sizes`` should be given in the ``dask_gufunc_kwargs`` parameter. It will be removed as direct parameter in a future version.\n",
      "  dr_out = xr.apply_ufunc(\n",
      "/srv/conda/envs/notebook/lib/python3.8/site-packages/cf_xarray/accessor.py:1043: UserWarning: Variables {'vertices_longitude'} not found in object but are referred to in the CF attributes.\n",
      "  warnings.warn(\n",
      "/srv/conda/envs/notebook/lib/python3.8/site-packages/cf_xarray/accessor.py:1043: UserWarning: Variables {'vertices_latitude'} not found in object but are referred to in the CF attributes.\n",
      "  warnings.warn(\n",
      "/srv/conda/envs/notebook/lib/python3.8/site-packages/dask/array/core.py:381: FutureWarning: elementwise comparison failed; returning scalar instead, but in the future will perform elementwise comparison\n",
      "  o = func(*args, **kwargs)\n"
     ]
    },
    {
     "name": "stdout",
     "output_type": "stream",
     "text": [
      "CanESM5-CanOE\n"
     ]
    },
    {
     "name": "stderr",
     "output_type": "stream",
     "text": [
      "/srv/conda/envs/notebook/lib/python3.8/site-packages/xesmf/frontend.py:439: FutureWarning: ``output_sizes`` should be given in the ``dask_gufunc_kwargs`` parameter. It will be removed as direct parameter in a future version.\n",
      "  dr_out = xr.apply_ufunc(\n",
      "/srv/conda/envs/notebook/lib/python3.8/site-packages/cf_xarray/accessor.py:1043: UserWarning: Variables {'vertices_longitude'} not found in object but are referred to in the CF attributes.\n",
      "  warnings.warn(\n",
      "/srv/conda/envs/notebook/lib/python3.8/site-packages/cf_xarray/accessor.py:1043: UserWarning: Variables {'vertices_latitude'} not found in object but are referred to in the CF attributes.\n",
      "  warnings.warn(\n",
      "/srv/conda/envs/notebook/lib/python3.8/site-packages/dask/array/core.py:381: FutureWarning: elementwise comparison failed; returning scalar instead, but in the future will perform elementwise comparison\n",
      "  o = func(*args, **kwargs)\n"
     ]
    },
    {
     "name": "stdout",
     "output_type": "stream",
     "text": [
      "CanESM5\n"
     ]
    },
    {
     "name": "stderr",
     "output_type": "stream",
     "text": [
      "/srv/conda/envs/notebook/lib/python3.8/site-packages/xesmf/frontend.py:439: FutureWarning: ``output_sizes`` should be given in the ``dask_gufunc_kwargs`` parameter. It will be removed as direct parameter in a future version.\n",
      "  dr_out = xr.apply_ufunc(\n",
      "/srv/conda/envs/notebook/lib/python3.8/site-packages/cf_xarray/accessor.py:1043: UserWarning: Variables {'vertices_longitude'} not found in object but are referred to in the CF attributes.\n",
      "  warnings.warn(\n",
      "/srv/conda/envs/notebook/lib/python3.8/site-packages/cf_xarray/accessor.py:1043: UserWarning: Variables {'vertices_latitude'} not found in object but are referred to in the CF attributes.\n",
      "  warnings.warn(\n",
      "/srv/conda/envs/notebook/lib/python3.8/site-packages/dask/array/core.py:381: FutureWarning: elementwise comparison failed; returning scalar instead, but in the future will perform elementwise comparison\n",
      "  o = func(*args, **kwargs)\n"
     ]
    },
    {
     "name": "stdout",
     "output_type": "stream",
     "text": [
      "EC-Earth3\n",
      "CPU times: user 2min 24s, sys: 13.3 s, total: 2min 37s\n",
      "Wall time: 2min 38s\n"
     ]
    },
    {
     "name": "stderr",
     "output_type": "stream",
     "text": [
      "/srv/conda/envs/notebook/lib/python3.8/site-packages/xesmf/frontend.py:439: FutureWarning: ``output_sizes`` should be given in the ``dask_gufunc_kwargs`` parameter. It will be removed as direct parameter in a future version.\n",
      "  dr_out = xr.apply_ufunc(\n"
     ]
    }
   ],
   "source": [
    "%%time\n",
    "\n",
    "#too few models\n",
    "\n",
    "regrids1 = []\n",
    "regrids2 = []\n",
    "\n",
    "\n",
    "for model in new_models:\n",
    "    print(model)\n",
    "    vvar = var+'os' \n",
    "    if model == 'UKESM1-0-LL' or model ==  'CNRM-ESM2-1': \n",
    "        vvar = var \n",
    "    if 'latitude' in xray_dic[model].coords:    \n",
    "            xray_dic[model] = xray_dic[model].rename({'longitude': 'lon', 'latitude': 'lat'})\n",
    "    if 'nav_lat' in xray_dic[model].coords:\n",
    "            xray_dic[model] = xray_dic[model].rename({'nav_lon': 'lon', 'nav_lat': 'lat'})\n",
    "\n",
    "    \n",
    "    ds = xray_dic[model].sel(time=slice(start_time, end_time))[vvar].mean(dim='time')\n",
    "    ds_max = xray_dic[model].sel(time=slice(start_time, end_time))[vvar].max(dim='time')\n",
    "    ds_min = xray_dic[model].sel(time=slice(start_time, end_time))[vvar].min(dim='time')\n",
    "    ds_seas = np.subtract(ds_max, ds_min)\n",
    "#     vvar = var1+'os'\n",
    "#     if model == 'UKESM1-0-LL' or model ==  'CNRM-ESM2-1': \n",
    "#         vvar = var1  \n",
    "#     if 'latitude' in xray_dic[model].coords:    \n",
    "#             xray2_dic[model] = xray_dic[model].rename({'longitude': 'lon', 'latitude': 'lat'})\n",
    "#     if 'nav_lat' in xray_dic[model].coords:\n",
    "#             xray2_dic[model] = xray_dic[model].rename({'nav_lon': 'lon', 'nav_lat': 'lat'})\n",
    "  \n",
    "#     ds_diat = xray2_dic[model].sel(time=slice(start_time, end_time))[vvar].mean(dim='time')\n",
    "#     ds_diat_max = xray2_dic[model].sel(time=slice(start_time, end_time))[vvar].max(dim='time', skipna=True)\n",
    "    \n",
    "    if 'lev_partial' in ds.coords:\n",
    "        ds_seas = ds_seas.isel(lev_partial=0)\n",
    "        ds = ds.isel(lev_partial=0)\n",
    "#         ds_diat = ds_end.isel(lev_partial=0)\n",
    "    if 'olevel' in ds.coords:\n",
    "        ds_seas = ds_seas.isel(olevel=0)\n",
    "        ds = ds.isel(olevel=0)\n",
    "#         ds_diat = ds_end.isel(olevel=0)\n",
    "    if 'lev' in ds.coords:\n",
    "        ds_seas = ds_seas.isel(lev=0)\n",
    "        ds = ds.isel(lev=0)\n",
    "#         ds_diat = ds_end.isel(lev=0)\n",
    "\n",
    "    \n",
    "    \n",
    "    \n",
    "#     ds_diff = np.divide(ds_diat, ds)   # % micro (micro + nano)\n",
    "#     ds_diff = np.subtract(ds, ds_diat)   # small\n",
    "#     ds_max = np.nanmax(ds, axis=1 )   # max phytoC\n",
    "#     dsr = xe.Regridder(ds, ds_out, 'bilinear', periodic=True, ignore_degenerate=True)\n",
    "    dsr = xe.Regridder(ds_seas, ds_out, 'bilinear', periodic=True, ignore_degenerate=True)\n",
    "#     dsrs = xe.Regridder(ds, ds_out, 'bilinear', periodic=True, ignore_degenerate=True)\n",
    "        \n",
    "     \n",
    "    \n",
    "    dsr._grid_in = None\n",
    "    dsr._grid_out = None\n",
    "    dsr_out = dsr(ds_seas)\n",
    "    \n",
    "#     dsrs._grid_in = None\n",
    "#     dsrs._grid_out = None\n",
    "#     dsrs_out = dsrs(ds)\n",
    "     \n",
    "    regrids1.append(dsr_out)\n",
    "#     regrids2.append(dsrs_out)\n",
    "\n"
   ]
  },
  {
   "cell_type": "code",
   "execution_count": 18,
   "metadata": {},
   "outputs": [
    {
     "name": "stderr",
     "output_type": "stream",
     "text": [
      "/srv/conda/envs/notebook/lib/python3.8/site-packages/dask/utils.py:31: RuntimeWarning: All-NaN slice encountered\n",
      "  return func(*args, **kwargs)\n",
      "/srv/conda/envs/notebook/lib/python3.8/site-packages/dask/core.py:121: RuntimeWarning: All-NaN slice encountered\n",
      "  return func(*(_execute_task(a, cache) for a in args))\n"
     ]
    }
   ],
   "source": [
    "a = ds_seas.values"
   ]
  },
  {
   "cell_type": "code",
   "execution_count": 19,
   "metadata": {},
   "outputs": [
    {
     "name": "stderr",
     "output_type": "stream",
     "text": [
      "/srv/conda/envs/notebook/lib/python3.8/site-packages/dask/array/numpy_compat.py:40: RuntimeWarning: invalid value encountered in true_divide\n",
      "  x = np.divide(x1, x2, out)\n"
     ]
    },
    {
     "data": {
      "text/plain": [
       "array([False, False, False, False, False, False, False, False, False,\n",
       "       False, False, False, False, False, False, False, False, False,\n",
       "       False, False, False, False, False, False, False, False, False,\n",
       "       False, False, False, False, False, False, False, False, False,\n",
       "       False, False, False, False, False, False, False, False, False,\n",
       "       False, False, False, False, False, False, False, False, False,\n",
       "       False, False, False, False, False, False, False, False, False,\n",
       "       False, False, False, False, False, False, False, False, False,\n",
       "       False, False, False, False, False, False, False, False, False,\n",
       "       False, False, False, False, False, False, False, False, False,\n",
       "       False, False, False, False, False, False, False, False, False,\n",
       "       False, False, False, False, False, False, False, False, False,\n",
       "       False, False, False, False, False, False, False, False, False,\n",
       "       False, False, False, False, False, False, False, False, False,\n",
       "       False, False, False, False, False, False, False, False, False,\n",
       "       False, False, False, False, False, False, False, False, False,\n",
       "       False, False, False, False, False, False, False, False, False,\n",
       "       False, False, False, False, False, False, False, False, False,\n",
       "       False, False, False, False, False, False, False, False, False,\n",
       "       False, False, False, False, False, False, False, False, False,\n",
       "       False, False, False, False, False, False, False, False, False,\n",
       "       False, False, False, False, False, False, False, False, False,\n",
       "       False, False, False, False, False, False, False, False, False,\n",
       "       False, False, False, False, False, False, False, False, False,\n",
       "       False, False, False, False, False, False, False, False, False,\n",
       "        True,  True, False, False, False, False, False, False, False,\n",
       "       False, False, False, False, False, False, False, False, False,\n",
       "       False, False, False, False, False, False, False, False, False,\n",
       "       False, False, False, False, False, False, False, False, False,\n",
       "       False, False, False, False, False, False, False, False, False,\n",
       "       False, False, False, False, False, False, False, False, False,\n",
       "       False, False, False, False, False, False, False, False, False,\n",
       "       False, False, False, False, False, False, False, False, False,\n",
       "       False, False, False, False, False, False, False, False, False,\n",
       "       False, False, False, False, False, False, False, False, False,\n",
       "       False, False, False, False, False, False, False, False, False,\n",
       "       False, False, False, False, False, False, False, False, False,\n",
       "       False, False, False, False, False, False, False, False, False,\n",
       "       False, False, False, False, False, False, False, False, False,\n",
       "       False, False, False, False, False, False, False, False, False,\n",
       "       False, False])"
      ]
     },
     "execution_count": 19,
     "metadata": {},
     "output_type": "execute_result"
    }
   ],
   "source": [
    "pd.isna(ds.values[45])"
   ]
  },
  {
   "cell_type": "code",
   "execution_count": 20,
   "metadata": {},
   "outputs": [
    {
     "data": {
      "text/plain": [
       "27.385695"
      ]
     },
     "execution_count": 20,
     "metadata": {},
     "output_type": "execute_result"
    }
   ],
   "source": [
    "np.nanmax(a)"
   ]
  },
  {
   "cell_type": "code",
   "execution_count": 21,
   "metadata": {},
   "outputs": [],
   "source": [
    "# regrid_dic1 = {key:value for key, value in zip(new_models, regrids1)} # start of the priod\n",
    "regrid_dic2 = {key:value for key, value in zip(new_models, regrids2)} # "
   ]
  },
  {
   "cell_type": "code",
   "execution_count": 22,
   "metadata": {},
   "outputs": [
    {
     "ename": "KeyError",
     "evalue": "'CESM2'",
     "output_type": "error",
     "traceback": [
      "\u001b[0;31m---------------------------------------------------------------------------\u001b[0m",
      "\u001b[0;31mKeyError\u001b[0m                                  Traceback (most recent call last)",
      "\u001b[0;32m<ipython-input-22-8c52656df48e>\u001b[0m in \u001b[0;36m<module>\u001b[0;34m\u001b[0m\n\u001b[1;32m      1\u001b[0m \u001b[0;31m# print(regrid_dic1['CESM2'])\u001b[0m\u001b[0;34m\u001b[0m\u001b[0;34m\u001b[0m\u001b[0;34m\u001b[0m\u001b[0m\n\u001b[0;32m----> 2\u001b[0;31m \u001b[0mprint\u001b[0m\u001b[0;34m(\u001b[0m\u001b[0mregrid_dic2\u001b[0m\u001b[0;34m[\u001b[0m\u001b[0;34m'CESM2'\u001b[0m\u001b[0;34m]\u001b[0m\u001b[0;34m)\u001b[0m\u001b[0;34m\u001b[0m\u001b[0;34m\u001b[0m\u001b[0m\n\u001b[0m",
      "\u001b[0;31mKeyError\u001b[0m: 'CESM2'"
     ]
    }
   ],
   "source": [
    "# print(regrid_dic1['CESM2'])\n",
    "print(regrid_dic2['CESM2']) "
   ]
  },
  {
   "cell_type": "code",
   "execution_count": 23,
   "metadata": {},
   "outputs": [
    {
     "ename": "KeyError",
     "evalue": "'UKESM1-0-LL'",
     "output_type": "error",
     "traceback": [
      "\u001b[0;31m---------------------------------------------------------------------------\u001b[0m",
      "\u001b[0;31mKeyError\u001b[0m                                  Traceback (most recent call last)",
      "\u001b[0;32m<ipython-input-23-e633f5efa60c>\u001b[0m in \u001b[0;36m<module>\u001b[0;34m\u001b[0m\n\u001b[0;32m----> 1\u001b[0;31m \u001b[0mregrid_dic2\u001b[0m\u001b[0;34m[\u001b[0m\u001b[0;34m'UKESM1-0-LL'\u001b[0m\u001b[0;34m]\u001b[0m\u001b[0;34m\u001b[0m\u001b[0;34m\u001b[0m\u001b[0m\n\u001b[0m\u001b[1;32m      2\u001b[0m \u001b[0;31m# print('next')\u001b[0m\u001b[0;34m\u001b[0m\u001b[0;34m\u001b[0m\u001b[0;34m\u001b[0m\u001b[0m\n\u001b[1;32m      3\u001b[0m \u001b[0;31m# Nn = regrid_dic2['CESM2']\u001b[0m\u001b[0;34m\u001b[0m\u001b[0;34m\u001b[0m\u001b[0;34m\u001b[0m\u001b[0m\n\u001b[1;32m      4\u001b[0m \u001b[0;31m# # print(Mm)\u001b[0m\u001b[0;34m\u001b[0m\u001b[0;34m\u001b[0m\u001b[0;34m\u001b[0m\u001b[0m\n\u001b[1;32m      5\u001b[0m \u001b[0;31m# Nn\u001b[0m\u001b[0;34m\u001b[0m\u001b[0;34m\u001b[0m\u001b[0;34m\u001b[0m\u001b[0m\n",
      "\u001b[0;31mKeyError\u001b[0m: 'UKESM1-0-LL'"
     ]
    }
   ],
   "source": [
    "regrid_dic2['UKESM1-0-LL']\n",
    "# print('next')\n",
    "# Nn = regrid_dic2['CESM2']\n",
    "# # print(Mm)\n",
    "# Nn"
   ]
  },
  {
   "cell_type": "code",
   "execution_count": 24,
   "metadata": {},
   "outputs": [],
   "source": [
    "\n",
    "from mpl_toolkits.axes_grid1 import AxesGrid\n",
    "from cartopy.mpl.geoaxes import GeoAxes\n",
    "import matplotlib.ticker as mticker\n",
    "from cartopy.mpl.gridliner import LONGITUDE_FORMATTER, LATITUDE_FORMATTER\n",
    "from cartopy.mpl.ticker import LongitudeFormatter, LatitudeFormatter\n",
    "# import cartopy.crs as ccrs\n"
   ]
  },
  {
   "cell_type": "code",
   "execution_count": 18,
   "metadata": {},
   "outputs": [
    {
     "ename": "NameError",
     "evalue": "name 'GeoAxes' is not defined",
     "output_type": "error",
     "traceback": [
      "\u001b[0;31m---------------------------------------------------------------------------\u001b[0m",
      "\u001b[0;31mNameError\u001b[0m                                 Traceback (most recent call last)",
      "\u001b[0;32m<timed exec>\u001b[0m in \u001b[0;36m<module>\u001b[0;34m\u001b[0m\n",
      "\u001b[0;31mNameError\u001b[0m: name 'GeoAxes' is not defined"
     ]
    },
    {
     "data": {
      "text/plain": [
       "<Figure size 1728x1008 with 0 Axes>"
      ]
     },
     "metadata": {},
     "output_type": "display_data"
    }
   ],
   "source": [
    "%%time  \n",
    "# ratio of the diat/phyc\n",
    "\n",
    "\n",
    "fig = plt.figure(figsize=(24, 14))\n",
    "\n",
    "# from mpl_toolkits.axes_grid1 import AxesGrid\n",
    "# from cartopy.mpl.geoaxes import GeoAxes\n",
    "# import matplotlib.ticker as mticker\n",
    "# from cartopy.mpl.gridliner import LONGITUDE_FORMATTER, LATITUDE_FORMATTER\n",
    "# from cartopy.mpl.ticker import LongitudeFormatter, LatitudeFormatter\n",
    "# import cartopy.crs as ccrs\n",
    "\n",
    "n_c = 4\n",
    "n_r = 4\n",
    "n_t=len(new_models)\n",
    "\n",
    "\n",
    "projection = ccrs.PlateCarree(central_longitude=180)\n",
    "axes_class = (GeoAxes,dict(map_projection=projection))\n",
    "axgr = AxesGrid(fig, 111, axes_class=axes_class, nrows_ncols=(n_c, n_r),\n",
    "                    axes_pad=0.6,\n",
    "                    cbar_location='right',\n",
    "                    cbar_mode='single',\n",
    "                    cbar_pad=0.2,\n",
    "                    cbar_size='3%',\n",
    "                    share_all = False,\n",
    "                    label_mode='')  # note the empty label_mode\n",
    "\n",
    "#projection = ccrs.PlateCarree(central_longitude=180)\n",
    "# levels = np.linspace(-0.001, 0.005, 0.02)\n",
    "# levels = np.logspace(-0.001, 0.006, 0.02)\n",
    "# plot_ranges \n",
    "# vmin = -0.003\n",
    "# vmax = 0.003\n",
    "\n",
    "vmin = 0\n",
    "vmax = 100\n",
    "n=60\n",
    "\n",
    "\n",
    "\n",
    "# levels = np.logspace(vmin, vmax, n+1,base=10.0)\n",
    "# levels = np.logspace(vmin, vmax, n+1) # for differences\n",
    "cmap = mpl.cm.jet\n",
    "i = 0\n",
    "A = 2\n",
    "for model in new_models:\n",
    "    print(model)   \n",
    "#     if isinstance(xray2_dic[model], list):  #saved this line to not forget it had to be there in other cases\n",
    "    if A == 3:\n",
    "        continue\n",
    "    else:\n",
    "        s = regrid_dic1[model]\n",
    "#         s = s * 12000    # Change value here * 12 to get grams/m3 from mol/m3. is it millimol? Should it be multiplied by 1000?\n",
    "#         s = regrid_dic3[model]*100    # for percents\n",
    "\n",
    "        \n",
    "\n",
    "        ax = list(axgr)[i]\n",
    "        i = i + 1\n",
    "#         p = ax.contourf(regrid_dic1[model].lon, regrid_dic1[model].lat, s, levels=levels, cmap = cmap, transform=ccrs.PlateCarree(), extend='both')   # Change Value here\n",
    "        p = ax.contourf(regrid_dic1[model].lon, regrid_dic1[model].lat, s,levels=levels, cmap = cmap, transform=ccrs.PlateCarree(), extend='both')   # Change Value here\n",
    "        ax.coastlines()\n",
    "#         ax.add_feature(cfeature.LAND, zorder=1,color='w')\n",
    "        ax.set_title(str(model),fontsize= 20)\n",
    "    #https://stackoverflow.com/questions/49956355/adding-gridlines-using-cartopy\n",
    "        gl = ax.gridlines(crs=projection, alpha=0, draw_labels=True)\n",
    "#         gl.xlabels_top = False\n",
    "        gl.top_labels = False\n",
    "        gl.xlocator = mticker.FixedLocator([ 90, 0, -90, -180])\n",
    "        gl.ylocator = mticker.FixedLocator([-90, -60, -30, 0, 30, 60, 90])\n",
    "        gl.xformatter = LONGITUDE_FORMATTER\n",
    "        gl.yformatter = LATITUDE_FORMATTER\n",
    "        \n",
    "        if i-1 == (n_c*(n_r-1)): # Adds longitude ranges only to the last subplots that appear at the bottom of plot\n",
    "#             gl.ylabels_left = True\n",
    "            gl.left_labels = True\n",
    "            gl.right_labels=False\n",
    "            gl.ylabel_style = {'size': 16} # labels = [left,right,top,bottom] # Longitudes\n",
    "            gl.xlines = True\n",
    "            gl.xlabel_style = {'size': 16}\n",
    "        elif i-1==0 or i-1==n_c or i-1==n_c*2 or i-1==n_c*3 or i-1==n_c*4 or i-1==n_c*5 or i-1==n_c*6 or i-1==n_c*7 or i-1==n_c*8:\n",
    "            gl.left_labels = True\n",
    "            gl.right_labels=False\n",
    "            gl.ylabel_style = {'size': 16} #\n",
    "            gl.bottom_labels = False\n",
    "        elif i-1 >= n_t-n_c and i-1 != (n_c*(n_r-1)): # Adds longitude ranges only to the last subplots that appear at the bottom of plot\n",
    "            gl.left_labels = False\n",
    "            gl.right_labels=False\n",
    "            gl.xlines = False\n",
    "            gl.xlabel_style = {'size': 16}\n",
    "        else:\n",
    "            gl.left_labels = False\n",
    "            gl.right_labels=False\n",
    "            gl.ylabel_style = {'size': 16} #\n",
    "            gl.bottom_labels = False\n",
    "            gl.xlines = False\n",
    "            if i>n_t:\n",
    "                plt.close(i)\n",
    "#        \n",
    "\n",
    "levels = np.linspace(maxval, maxval, n+1)\n",
    "\n",
    "# plt.suptitle('Average 1995 - 2014, Mole Concentration of Biomass of phytoplankton [mol m-3]', fontsize=20)  # Change Value here\n",
    "# plt.suptitle(' Small phytoC for 2003-2007, Concentration of Biomass of phytoplankton [mgC m-3]', fontsize=20)\n",
    "plt.suptitle('Max-min '+var+'_'+start_time+'-'+end_time+', Concentration of Biomass of '+var+' [mgC m-3]', fontsize=20)\n",
    "# cb = axgr.cbar_axes[0].colorbar(p)\n",
    "\n",
    "cb = mpl.colorbar.ColorbarBase(axgr.cbar_axes[0], cmap = cmap, boundaries = levels, extend='both')\n",
    "cb.ax.tick_params(labelsize=16)\n",
    "\n",
    "\n",
    "# plt.savefig('/home/jovyan/CMIP6-Codes/AGU_fall_pics/phyc_2003_2007.tiff', dpi=600,format='tiff')   # Change Value here\n",
    "# plt.savefig('/home/jovyan/CMIP6-Codes/AGU_fall_pics/small_phyC_2003_2007.png', dpi=600,format='png')   # Change Value here\n",
    "plt.savefig('/home/jovyan/quickplots/MaxMin_'+var+'_'+start_time+'_'+end_time+'_1.png', dpi=600,format='png')   # Change Value here\n",
    "# model order"
   ]
  },
  {
   "cell_type": "code",
   "execution_count": null,
   "metadata": {},
   "outputs": [],
   "source": []
  },
  {
   "cell_type": "code",
   "execution_count": null,
   "metadata": {},
   "outputs": [],
   "source": [
    "## PhytoC+ZooC = POC"
   ]
  },
  {
   "cell_type": "code",
   "execution_count": null,
   "metadata": {},
   "outputs": [],
   "source": []
  },
  {
   "cell_type": "code",
   "execution_count": null,
   "metadata": {},
   "outputs": [],
   "source": []
  },
  {
   "cell_type": "code",
   "execution_count": null,
   "metadata": {},
   "outputs": [],
   "source": []
  },
  {
   "cell_type": "code",
   "execution_count": null,
   "metadata": {},
   "outputs": [],
   "source": []
  },
  {
   "cell_type": "code",
   "execution_count": null,
   "metadata": {},
   "outputs": [],
   "source": []
  },
  {
   "cell_type": "code",
   "execution_count": null,
   "metadata": {},
   "outputs": [],
   "source": []
  },
  {
   "cell_type": "code",
   "execution_count": null,
   "metadata": {},
   "outputs": [],
   "source": []
  },
  {
   "cell_type": "code",
   "execution_count": null,
   "metadata": {},
   "outputs": [],
   "source": []
  },
  {
   "cell_type": "code",
   "execution_count": null,
   "metadata": {},
   "outputs": [],
   "source": []
  },
  {
   "cell_type": "code",
   "execution_count": null,
   "metadata": {},
   "outputs": [],
   "source": [
    "ds_time = xr.DataArray(newtime, dims=test.dims)"
   ]
  },
  {
   "cell_type": "code",
   "execution_count": null,
   "metadata": {},
   "outputs": [],
   "source": [
    "test.idxmax(dim = 'time', skipna = True).load()"
   ]
  },
  {
   "cell_type": "code",
   "execution_count": null,
   "metadata": {},
   "outputs": [],
   "source": [
    "np.nanargmax(test, axis =0)"
   ]
  },
  {
   "cell_type": "code",
   "execution_count": null,
   "metadata": {},
   "outputs": [],
   "source": [
    "test =  xray_dic[model].sel(time=slice(start_time, end_time))[vvar]"
   ]
  },
  {
   "cell_type": "code",
   "execution_count": null,
   "metadata": {},
   "outputs": [],
   "source": [
    "test"
   ]
  },
  {
   "cell_type": "code",
   "execution_count": null,
   "metadata": {},
   "outputs": [],
   "source": [
    "newtime = np.tile(test.time.values[:, np.newaxis, np.newaxis], (1, test.shape[1], test.shape[2]))"
   ]
  },
  {
   "cell_type": "code",
   "execution_count": null,
   "metadata": {},
   "outputs": [],
   "source": [
    "newtime[a]"
   ]
  },
  {
   "cell_type": "code",
   "execution_count": null,
   "metadata": {},
   "outputs": [],
   "source": [
    "a = xray_dic[model].sel(time=slice(start_time, end_time))[vvar].max(dim='time')\n",
    "# xray_dic[model][vvar].where(xray_dic[model][vvar]==a)"
   ]
  },
  {
   "cell_type": "code",
   "execution_count": null,
   "metadata": {},
   "outputs": [],
   "source": [
    "func_findtime_xr(xray_dic[model][vvar])"
   ]
  },
  {
   "cell_type": "code",
   "execution_count": null,
   "metadata": {},
   "outputs": [],
   "source": [
    "def func_findtime(data, time):\n",
    "    a = np.argmax(data)\n",
    "    maxtime = time[a]\n",
    "    return maxtime"
   ]
  },
  {
   "cell_type": "code",
   "execution_count": null,
   "metadata": {},
   "outputs": [],
   "source": [
    "def func_findtime_xr(ds):\n",
    "    maxtime = xr.apply_ufunc(func_findtime,\n",
    "                             ds,\n",
    "                             ds.time,\n",
    "                             input_core_dims=[['time'],[]]\n",
    "                            )\n",
    "    return maxtime"
   ]
  },
  {
   "cell_type": "code",
   "execution_count": null,
   "metadata": {},
   "outputs": [],
   "source": [
    "%%time\n",
    "\n",
    "#too few models\n",
    "\n",
    "regrids1 = []\n",
    "regrids2 = []\n",
    "\n",
    "\n",
    "for model in new_models:\n",
    "    print(model)\n",
    "    vvar = var+'os' \n",
    "    if model == 'UKESM1-0-LL' or model ==  'CNRM-ESM2-1': \n",
    "        vvar = var \n",
    "    if 'latitude' in xray_dic[model].coords:    \n",
    "            xray_dic[model] = xray_dic[model].rename({'longitude': 'lon', 'latitude': 'lat'})\n",
    "    if 'nav_lat' in xray_dic[model].coords:\n",
    "            xray_dic[model] = xray_dic[model].rename({'nav_lon': 'lon', 'nav_lat': 'lat'})\n",
    "\n",
    "    \n",
    "#     ds = xray_dic[model].sel(time=slice(start_time, end_time))[vvar].mean(dim='time')\n",
    "    \n",
    "#     ds_max_c = xray_dic[model].sel(time=slice(start_time, end_time))[vvar].argmax(dim='time')\n",
    "#     ind_max = xray_dic[model].sel(time=slice(start_time, end_time))[vvar].argmax(dim=['time'])\n",
    "    ds_max_c = xray_dic[model][vvar].idxmax(dim = 'time', skipna = True)\n",
    "    \n",
    "#     ds_max = xray_dic[model].sel(time=slice(start_time, end_time))[vvar].max(dim='time')\n",
    "    \n",
    "#     ds_min = xray_dic[model].sel(time=slice(start_time, end_time))[vvar].min(dim='time')\n",
    "#     ds_seas = np.subtract(ds_max, ds_min)\n",
    "#     \n",
    "    \n",
    "    if 'lev_partial' in ds_max_c.coords:\n",
    "        ds_max_c = ds_max_c.isel(lev_partial=0)\n",
    "#         ds = ds.isel(lev_partial=0)\n",
    "#         ds_diat = ds_end.isel(lev_partial=0)\n",
    "    if 'olevel' in ds_max_c.coords:\n",
    "        ds_max_c = ds_max_c.isel(olevel=0)\n",
    "#         ds = ds.isel(olevel=0)\n",
    "#         ds_diat = ds_end.isel(olevel=0)\n",
    "    if 'lev' in ds_max_c.coords:\n",
    "        ds_max_c = ds_max_c.isel(lev=0)\n",
    "#         ds = ds.isel(lev=0)\n",
    "#         ds_diat = ds_end.isel(lev=0)\n",
    "\n",
    "    \n",
    "    \n",
    "    \n",
    "#     ds_diff = np.divide(ds_diat, ds)   # % micro (micro + nano)\n",
    "#     ds_diff = np.subtract(ds, ds_diat)   # small\n",
    "#     ds_max = np.nanmax(ds, axis=1 )   # max phytoC\n",
    "#     dsr = xe.Regridder(ds, ds_out, 'bilinear', periodic=True, ignore_degenerate=True)\n",
    "    dsr = xe.Regridder(ds_max_c, ds_out, 'bilinear', periodic=True, ignore_degenerate=True)\n",
    "#     dsrs = xe.Regridder(ds, ds_out, 'bilinear', periodic=True, ignore_degenerate=True)\n",
    "        \n",
    "     \n",
    "    \n",
    "    dsr._grid_in = None\n",
    "    dsr._grid_out = None\n",
    "    dsr_out = dsr(ds_max_c)\n",
    "    \n",
    "#     dsrs._grid_in = None\n",
    "#     dsrs._grid_out = None\n",
    "#     dsrs_out = dsrs(ds)\n",
    "     \n",
    "    regrids1.append(dsr_out)\n",
    "#     regrids2.append(dsrs_out)\n",
    "\n"
   ]
  },
  {
   "cell_type": "code",
   "execution_count": null,
   "metadata": {},
   "outputs": [],
   "source": [
    "a =  dsr_out[80, 60].load()\n",
    "print(a)"
   ]
  },
  {
   "cell_type": "code",
   "execution_count": null,
   "metadata": {},
   "outputs": [],
   "source": [
    "s = ds_max_c.datetime.datetime.strptime(when, '%Y-%m-%d')"
   ]
  },
  {
   "cell_type": "code",
   "execution_count": null,
   "metadata": {},
   "outputs": [],
   "source": [
    "%%time  \n",
    "# ratio of the diat/phyc\n",
    "\n",
    "\n",
    "fig = plt.figure(figsize=(24, 14))\n",
    "\n",
    "# from mpl_toolkits.axes_grid1 import AxesGrid\n",
    "# from cartopy.mpl.geoaxes import GeoAxes\n",
    "# import matplotlib.ticker as mticker\n",
    "# from cartopy.mpl.gridliner import LONGITUDE_FORMATTER, LATITUDE_FORMATTER\n",
    "# from cartopy.mpl.ticker import LongitudeFormatter, LatitudeFormatter\n",
    "# import cartopy.crs as ccrs\n",
    "\n",
    "n_c = 4\n",
    "n_r = 3\n",
    "n_t=len(new_models)\n",
    "\n",
    "\n",
    "projection = ccrs.PlateCarree(central_longitude=180)\n",
    "axes_class = (GeoAxes,dict(map_projection=projection))\n",
    "axgr = AxesGrid(fig, 111, axes_class=axes_class, nrows_ncols=(3, 4),\n",
    "                    axes_pad=0.6,\n",
    "                    cbar_location='right',\n",
    "                    cbar_mode='single',\n",
    "                    cbar_pad=0.2,\n",
    "                    cbar_size='3%',\n",
    "                    share_all = False,\n",
    "                    label_mode='')  # note the empty label_mode\n",
    "\n",
    "#projection = ccrs.PlateCarree(central_longitude=180)\n",
    "# levels = np.linspace(-0.001, 0.005, 0.02)\n",
    "# levels = np.logspace(-0.001, 0.006, 0.02)\n",
    "# plot_ranges \n",
    "# vmin = -0.003\n",
    "# vmax = 0.003\n",
    "\n",
    "vmin = 0\n",
    "vmax = 150\n",
    "n=60\n",
    "levels = np.linspace(vmin, vmax, n+1)\n",
    "\n",
    "\n",
    "# levels = np.logspace(vmin, vmax, n+1,base=10.0)\n",
    "# levels = np.logspace(vmin, vmax, n+1) # for differences\n",
    "cmap = mpl.cm.jet\n",
    "i = 0\n",
    "A = 2\n",
    "for model in new_models:\n",
    "    print(model)   \n",
    "#     if isinstance(xray2_dic[model], list):  #saved this line to not forget it had to be there in other cases\n",
    "    if A == 3:\n",
    "        continue\n",
    "    else:\n",
    "        s = regrid_dic1[model]   # Change value here * 12 to get grams/m3 from mol/m3. is it millimol? Should it be multiplied by 1000?\n",
    "#         s = regrid_dic3[model]*100    # for percents\n",
    "        ax = list(axgr)[i]\n",
    "        i = i + 1\n",
    "#         p = ax.contourf(regrid_dic1[model].lon, regrid_dic1[model].lat, s, levels=levels, cmap = cmap, transform=ccrs.PlateCarree(), extend='both')   # Change Value here\n",
    "        p = ax.contourf(regrid_dic1[model].lon, regrid_dic1[model].lat, s, cmap = cmap, transform=ccrs.PlateCarree(), extend='both')   # Change Value here\n",
    "        ax.coastlines()\n",
    "        ax.set_title(str(model),fontsize= 20)\n",
    "    #https://stackoverflow.com/questions/49956355/adding-gridlines-using-cartopy\n",
    "        gl = ax.gridlines(crs=projection, alpha=0, draw_labels=True)\n",
    "#         gl.xlabels_top = False\n",
    "        gl.top_labels = False\n",
    "        gl.xlocator = mticker.FixedLocator([ 90, 0, -90, -180])\n",
    "        gl.ylocator = mticker.FixedLocator([-90, -60, -30, 0, 30, 60, 90])\n",
    "        gl.xformatter = LONGITUDE_FORMATTER\n",
    "        gl.yformatter = LATITUDE_FORMATTER\n",
    "        \n",
    "        if i-1 == (n_c*(n_r-1)): # Adds longitude ranges only to the last subplots that appear at the bottom of plot\n",
    "#             gl.ylabels_left = True\n",
    "            gl.left_labels = True\n",
    "            gl.right_labels=False\n",
    "            gl.ylabel_style = {'size': 16} # labels = [left,right,top,bottom] # Longitudes\n",
    "            gl.xlines = True\n",
    "            gl.xlabel_style = {'size': 16}\n",
    "        elif i-1==0 or i-1==n_c or i-1==n_c*2 or i-1==n_c*3 or i-1==n_c*4 or i-1==n_c*5 or i-1==n_c*6 or i-1==n_c*7 or i-1==n_c*8:\n",
    "            gl.left_labels = True\n",
    "            gl.right_labels=False\n",
    "            gl.ylabel_style = {'size': 16} #\n",
    "            gl.bottom_labels = False\n",
    "        elif i-1 >= n_t-n_c and i-1 != (n_c*(n_r-1)): # Adds longitude ranges only to the last subplots that appear at the bottom of plot\n",
    "            gl.left_labels = False\n",
    "            gl.right_labels=False\n",
    "            gl.xlines = False\n",
    "            gl.xlabel_style = {'size': 16}\n",
    "        else:\n",
    "            gl.left_labels = False\n",
    "            gl.right_labels=False\n",
    "            gl.ylabel_style = {'size': 16} #\n",
    "            gl.bottom_labels = False\n",
    "            gl.xlines = False\n",
    "            if i>n_t:\n",
    "                plt.close(i)\n",
    "#        \n",
    "# plt.suptitle('Average 1995 - 2014, Mole Concentration of Biomass of phytoplankton [mol m-3]', fontsize=20)  # Change Value here\n",
    "# plt.suptitle(' Small phytoC for 2003-2007, Concentration of Biomass of phytoplankton [mgC m-3]', fontsize=20)\n",
    "plt.suptitle('Month of Max phytoC for 2003-2007, Concentration of Biomass of phytoplankton [mgC m-3]', fontsize=20)\n",
    "# cb = axgr.cbar_axes[0].colorbar(p)\n",
    "\n",
    "cb = mpl.colorbar.ColorbarBase(axgr.cbar_axes[0], cmap = cmap, boundaries = levels, extend='both')\n",
    "cb.ax.tick_params(labelsize=16)\n",
    "\n",
    "\n",
    "# plt.savefig('/home/jovyan/CMIP6-Codes/AGU_fall_pics/phyc_2003_2007.tiff', dpi=600,format='tiff')   # Change Value here\n",
    "# plt.savefig('/home/jovyan/CMIP6-Codes/AGU_fall_pics/small_phyC_2003_2007.png', dpi=600,format='png')   # Change Value here\n",
    "plt.savefig('/home/jovyan/CMIP6-Codes/AGU_fall_pics/MaxMon_phyC_2003_2007.png', dpi=600,format='png')   # Change Value here\n",
    "# model order"
   ]
  },
  {
   "cell_type": "code",
   "execution_count": null,
   "metadata": {},
   "outputs": [],
   "source": []
  },
  {
   "cell_type": "code",
   "execution_count": null,
   "metadata": {},
   "outputs": [],
   "source": []
  },
  {
   "cell_type": "code",
   "execution_count": null,
   "metadata": {},
   "outputs": [],
   "source": []
  },
  {
   "cell_type": "code",
   "execution_count": null,
   "metadata": {},
   "outputs": [],
   "source": [
    "xray_dic['CESM2']"
   ]
  },
  {
   "cell_type": "code",
   "execution_count": null,
   "metadata": {},
   "outputs": [],
   "source": [
    "regrid_dic1 = {key:value for key, value in zip(new_models, regrids1)} # start of the priod\n",
    "# regrid_dic2 = {key:value for key, value in zip(new_models, regrids2)} # start of the priod\n"
   ]
  },
  {
   "cell_type": "code",
   "execution_count": null,
   "metadata": {},
   "outputs": [],
   "source": [
    "a = regrid_dic1['CESM2']"
   ]
  },
  {
   "cell_type": "code",
   "execution_count": null,
   "metadata": {},
   "outputs": [],
   "source": [
    "# a = regrid_dic1['CESM2']\n",
    "np.nanmax(a)"
   ]
  },
  {
   "cell_type": "code",
   "execution_count": null,
   "metadata": {},
   "outputs": [],
   "source": []
  },
  {
   "cell_type": "code",
   "execution_count": null,
   "metadata": {},
   "outputs": [],
   "source": []
  },
  {
   "cell_type": "code",
   "execution_count": null,
   "metadata": {},
   "outputs": [],
   "source": []
  },
  {
   "cell_type": "code",
   "execution_count": null,
   "metadata": {},
   "outputs": [],
   "source": []
  },
  {
   "cell_type": "code",
   "execution_count": null,
   "metadata": {},
   "outputs": [],
   "source": []
  },
  {
   "cell_type": "code",
   "execution_count": null,
   "metadata": {},
   "outputs": [],
   "source": []
  },
  {
   "cell_type": "code",
   "execution_count": null,
   "metadata": {},
   "outputs": [],
   "source": []
  },
  {
   "cell_type": "code",
   "execution_count": null,
   "metadata": {},
   "outputs": [],
   "source": []
  },
  {
   "cell_type": "code",
   "execution_count": null,
   "metadata": {},
   "outputs": [],
   "source": []
  },
  {
   "cell_type": "code",
   "execution_count": null,
   "metadata": {},
   "outputs": [],
   "source": []
  },
  {
   "cell_type": "code",
   "execution_count": null,
   "metadata": {},
   "outputs": [],
   "source": []
  },
  {
   "cell_type": "code",
   "execution_count": null,
   "metadata": {},
   "outputs": [],
   "source": []
  },
  {
   "cell_type": "code",
   "execution_count": null,
   "metadata": {},
   "outputs": [],
   "source": []
  },
  {
   "cell_type": "code",
   "execution_count": null,
   "metadata": {},
   "outputs": [],
   "source": []
  },
  {
   "cell_type": "code",
   "execution_count": null,
   "metadata": {},
   "outputs": [],
   "source": []
  },
  {
   "cell_type": "code",
   "execution_count": null,
   "metadata": {},
   "outputs": [],
   "source": [
    "# %%time\n",
    "\n",
    "# regrids1 = []\n",
    "# regrids2 = []\n",
    "# regrids3 = []\n",
    "\n",
    "\n",
    "\n",
    "# for model in new_models:\n",
    "#     print(model)\n",
    "# #model = CanESM5\n",
    "#     #if isinstance(xray_dic[model], xr.Dataset):\n",
    "#        # if 'latitude' in ds.coords:\n",
    "#     if 'latitude' in xray_dic[model].coords:    \n",
    "#             xray_dic[model] = xray_dic[model].rename({'longitude': 'lon', 'latitude': 'lat'})\n",
    "#     if 'nav_lat' in xray_dic[model].coords:\n",
    "#             xray_dic[model] = xray_dic[model].rename({'nav_lon': 'lon', 'nav_lat': 'lat'})\n",
    "    \n",
    "#     ds = xray_dic[model].sel(time=slice(start_time, end_time))[var].mean(dim='time')\n",
    "#     ds_end = xray2_dic[model].sel(time=slice(start_time2, end_time2))[var].mean(dim='time')\n",
    "    \n",
    "    \n",
    "#     if 'lev_partial' in ds.coords:\n",
    "#         ds = ds.isel(lev_partial=0)\n",
    "#         ds_end = ds_end.isel(lev_partial=0)\n",
    "#     if 'olevel' in ds.coords:\n",
    "#         ds = ds.isel(olevel=0)\n",
    "#         ds_end = ds_end.isel(olevel=0)\n",
    "#     if 'lev' in ds.coords:\n",
    "#         ds = ds.isel(lev=0)\n",
    "#         ds_end = ds_end.isel(lev=0)\n",
    "\n",
    "    \n",
    "    \n",
    "#         #ds_diff = np.subtract(ds, ds_end)  []\n",
    "                  \n",
    "        \n",
    "# #     if model == 'GFDL-CM4' or 'IPSL-CM6A-LR' or 'CNRM-ESM2-1':\n",
    "# #         print('1')\n",
    "# #         ds = xray_dic[model].sel(lev=0,method='nearest')\n",
    "# #         ds_end = xray2_dic[model].sel(lev=0,method='nearest')\n",
    "\n",
    "        \n",
    "#     ds_diff = np.subtract(ds, ds_end)     \n",
    "#     dsr = xe.Regridder(ds, ds_out, 'bilinear', periodic=True, ignore_degenerate=True)\n",
    "\n",
    "        \n",
    "# #     #if 'lev' in xray_dic[model]:\n",
    "# #     if    model == 'GFDL-CM4':\n",
    "# #         ds = xray_dic[model].sel(lev = slice(0)).sel(time=slice(start_time2, end_time2))[var].mean(dim='time')    # Trying to use only surface level for GFDL, the top layer 2.5 m\n",
    "# #         ds_end = xray2_dic[model].sel(lev = slice(0)).sel(time=slice(start_time2, end_time2))[var].mean(dim='time')\n",
    "# #     else:\n",
    "        \n",
    "# #         ds = xray_dic[model].sel(time=slice(start_time, end_time))[var].mean(dim='time')\n",
    "# #         ds_end = xray2_dic[model].sel(time=slice(start_time2, end_time2))[var].mean(dim='time')\n",
    "# #         #ds_diff = np.subtract(ds, ds_end)  \n",
    "                  \n",
    "# #     ds_diff = np.subtract(ds, ds_end)             \n",
    "# #     dsr = xe.Regridder(ds, ds_out, 'bilinear', periodic=True, ignore_degenerate=True)\n",
    "# #        # dsr_end = xe.Regridder(ds, ds_out, 'bilinear', periodic=True, ignore_degenerate=True)\n",
    "# #        # dsr_diff =xe.Regridder(ds, ds_out, 'bilinear', periodic=True, ignore_degenerate=True)\n",
    "        \n",
    "#     dsr._grid_in = None\n",
    "#     dsr._grid_out = None\n",
    "#     dsr_out = dsr(ds)\n",
    "#     dsr_out_end = dsr(ds_end)\n",
    "#     dsr_out_diff = dsr(ds_diff)\n",
    "#     dsr.clean_weight_file()\n",
    "    \n",
    "# #       saving the vars  \n",
    "#     if model==1:\n",
    "#         dsr_out.load()\n",
    "#         dsr_out.to_netcdf(\"testsave_app.nc\",\"w\") \n",
    "#     else:\n",
    "#         mod_name = new_models[model]\n",
    "#         mod_name = dsr_out.load()\n",
    "#         dsr_out.to_netcdf(\"testsave_app.nc\",\"a\")\n",
    "      \n",
    "        \n",
    "#     #    dsr_out = dsr_out.fillna(-9999)\n",
    "#     #    dsr_out = dsr_out.load()\n",
    "#     #    outname = 'mean/' + str(model) + str(var) + 'regrid.nc'\n",
    "#     #    dsr_out.to_netcdf(outname)\n",
    "        \n",
    "#     #else:\n",
    "#      #   dsr_out = []\n",
    "        \n",
    "#     regrids1.append(dsr_out)\n",
    "#     regrids2.append(dsr_out_end)\n",
    "#     regrids3.append(dsr_out_diff)\n",
    "    \n",
    "# #regrid_dic = {key:value for key, value in zip(new_models, regrids1,regrids2,regrids3)}\n"
   ]
  },
  {
   "cell_type": "code",
   "execution_count": null,
   "metadata": {},
   "outputs": [],
   "source": [
    "# # models = ['CESM2-WACCM','CESM2','GFDL-CM4','GFDL-ESM4','IPSL-CM6A-LR', \n",
    "# #           'MRI-ESM2-0', 'UKESM1-0-LL','CanESM5-CanOE','CanESM5', \n",
    "# #           'NorESM2-LM', 'NorESM2-MM','MPI-ESM1-2-HR','MPI-ESM1-2-LR',\n",
    "# #           'CNRM-ESM2-1', 'ACCESS-ESM1-5','MIROC-ES2L']\n",
    "\n",
    "# # skip MRi model due to time format\n",
    "# models = ['CESM2-WACCM','CESM2','GFDL-CM4','GFDL-ESM4','IPSL-CM6A-LR', \n",
    "#           'UKESM1-0-LL','CanESM5-CanOE','CanESM5', \n",
    "#           'NorESM2-LM', 'NorESM2-MM','MPI-ESM1-2-HR','MPI-ESM1-2-LR',\n",
    "#           'CNRM-ESM2-1', 'ACCESS-ESM1-5','MIROC-ES2L']\n",
    "\n",
    "# # var_names=['phyc','chl','phydiat','zooc','intpp','epc100',\n",
    "# #            'fgco2','spco2','dfe','no3','si','rsntds']\n",
    "# var_names=['phyc','chl','phydiat',]\n",
    "\n",
    "# expe = 'historical'\n",
    "# freq = 'Omon'\n",
    "# start_year = '2003'\n",
    "# end_year = '2007'\n",
    "\n",
    "# #new_models = ['GISS-E2-1-G', 'GISS-E2-1-G-CC']\n",
    "# # new_vars = ['phydiat']   # new models aren't working here. \n",
    "# xxray_in = []\n",
    "# # true_var = 'phydiat'\n",
    "# for model in models:\n",
    "#     print(model)\n",
    "#     for var in var_names:\n",
    "#         vvar = var + 'os'\n",
    "#         xray = get_data(df, vvar, model, expe, freq) # get data with os\n",
    "# #         if 'latitude' in xray.coords:\n",
    "# #                  xray = xray.rename({'longitude': 'lon', 'latitude': 'lat'})\n",
    "# #         if 'nav_lat' in ds.coords:\n",
    "# #                  xray = xray.rename({'nav_lon': 'lon', 'nav_lat': 'lat'})\n",
    "            \n",
    "# #         if 'lev_partial' in xray.coords:\n",
    "# #                  xray = xray.isel(lev_partial=0)\n",
    "# #         if 'olevel' in ds.coords:\n",
    "# #                  xray = xray.isel(olevel=0)\n",
    "# #         if 'lev' in xray.coords:\n",
    "# #                  xray = xray.isel(lev=0)\n",
    "                \n",
    "# #         if model == 'GISS-E2-1-G' or model == 'GISS-E2-1-G-CC':\n",
    "# #                  if var == 'phyc' or var == 'chl' or var == 'phydiat' or var == 'zooc' or var == 'no3' or var == 'si' or var == 'dfe':\n",
    "# #                         xray = xray.where(ds>=0)\n",
    "#         if isinstance(xray, xr.Dataset): # if ok \n",
    "#             xxray_in = xray\n",
    "            \n",
    "#         else:\n",
    "#             vvar = var    \n",
    "#             print(vvar)\n",
    "#             xray = get_data(df, vvar, model, expe, freq) # data without os\n",
    "#             xxray_in= xray\n",
    "#         if isinstance(xxray_in, xr.Dataset): # if there is any data\n",
    "#                 ds = xxray_in.sel(time=slice(start_year, end_year))[vvar]\n",
    "            \n",
    "#                 if 'latitude' in ds.coords:\n",
    "#                     ds = ds.rename({'longitude': 'lon', 'latitude': 'lat'})\n",
    "#                 if 'nav_lat' in ds.coords:\n",
    "#                     ds = ds.rename({'nav_lon': 'lon', 'nav_lat': 'lat'})\n",
    "            \n",
    "#                 if 'lev_partial' in ds.coords:\n",
    "#                     ds = ds.isel(lev_partial=0)\n",
    "#                 if 'olevel' in ds.coords:\n",
    "#                     ds = ds.isel(olevel=0)\n",
    "#                 if 'lev' in ds.coords:\n",
    "#                     ds = ds.isel(lev=0)\n",
    "                \n",
    "#                 if model == 'GISS-E2-1-G' or model == 'GISS-E2-1-G-CC':\n",
    "#                     if vvar == 'phyc' or vvar == 'chl' or vvar == 'phydiat' or vvar == 'zooc' or vvar == 'no3' or vvar == 'si' or vvar == 'dfe':\n",
    "#                         ds = ds.where(ds>=0)\n",
    "                        \n",
    "#                 dsr = xe.Regridder(ds, ds_out, 'bilinear', periodic=True, ignore_degenerate=True)   # regridding block\n",
    "#                 dsr._grid_in = None   \n",
    "#                 dsr._grid_out = None\n",
    "#                 dsr_out0 = dsr(ds)\n",
    "#                 dsr_out = xr.Dataset({var:dsr_out0})\n",
    "#                 if dsr_out[var].shape[0]==240:\n",
    "# #                     ds_np = dsr_out.sel(lat=slice(45,50)).sel(lon=slice(210,220))\n",
    "#                     dsm = dsr_out[var].mean(dim='time',skipna=1)\n",
    "#                     dsm.load()\n",
    "               \n",
    "#                 :~$ tar -czvf NA_NPssp585.tar.gz save"
   ]
  },
  {
   "cell_type": "code",
   "execution_count": null,
   "metadata": {},
   "outputs": [],
   "source": []
  },
  {
   "cell_type": "code",
   "execution_count": null,
   "metadata": {},
   "outputs": [],
   "source": []
  },
  {
   "cell_type": "code",
   "execution_count": null,
   "metadata": {},
   "outputs": [],
   "source": []
  }
 ],
 "metadata": {
  "kernelspec": {
   "display_name": "Python [conda env:notebook] *",
   "language": "python",
   "name": "conda-env-notebook-py"
  },
  "language_info": {
   "codemirror_mode": {
    "name": "ipython",
    "version": 3
   },
   "file_extension": ".py",
   "mimetype": "text/x-python",
   "name": "python",
   "nbconvert_exporter": "python",
   "pygments_lexer": "ipython3",
   "version": "3.8.6"
  }
 },
 "nbformat": 4,
 "nbformat_minor": 4
}
